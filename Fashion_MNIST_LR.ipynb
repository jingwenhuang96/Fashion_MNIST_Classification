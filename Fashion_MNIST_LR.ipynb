{
  "nbformat": 4,
  "nbformat_minor": 0,
  "metadata": {
    "colab": {
      "name": "Fashion_MNIST_LR",
      "provenance": [],
      "collapsed_sections": []
    },
    "kernelspec": {
      "name": "python3",
      "display_name": "Python 3"
    },
    "accelerator": "GPU"
  },
  "cells": [
    {
      "cell_type": "markdown",
      "metadata": {
        "id": "fuDOunxkdGeX",
        "colab_type": "text"
      },
      "source": [
        "# Fashion MINST Classification with Logistic Regression\n",
        "The notebook build LR model to classify the images of Fashion MNIST into 10 classes\n",
        "\n",
        "## *Question: How does the Logistic Regression model perform on classifying the images of fashion ? Which category does this model make more mistakes?*\n",
        "\n",
        "\n",
        "### **Result:**\n",
        "\n",
        "classification accuracy on test set is  0.8414285714285714\n",
        "\n",
        "Actual label 6: label 6 — Shirt is easier to be classified as label 0 — T-shirt/top, label 2 — Pullover, and label 4 — Coat\n",
        "\n",
        "Actual label 2: label 2 — Pullover is easier to be classified as label 4 — Coat\n",
        "\n",
        "Logistic Regression model performs relatively not well on classifying shirt."
      ]
    },
    {
      "cell_type": "markdown",
      "metadata": {
        "id": "P8Ct30ypfQ89",
        "colab_type": "text"
      },
      "source": [
        "### Import required modules"
      ]
    },
    {
      "cell_type": "code",
      "metadata": {
        "id": "mN3ckYfec6EJ",
        "colab_type": "code",
        "outputId": "23bfc275-af2e-45fb-812e-0b3e0f759074",
        "colab": {
          "base_uri": "https://localhost:8080/",
          "height": 70
        }
      },
      "source": [
        "%matplotlib inline\n",
        "import numpy as np\n",
        "import matplotlib.pyplot as plt\n",
        "from mpl_toolkits.mplot3d import Axes3D\n",
        "import pandas as pd\n",
        "from sklearn.linear_model import LogisticRegression\n",
        "from sklearn.model_selection import train_test_split\n",
        "from sklearn import metrics\n",
        "from sklearn.metrics import accuracy_score, confusion_matrix\n",
        "from sklearn.preprocessing import MinMaxScaler\n",
        "from sklearn.datasets import fetch_openml\n",
        "import seaborn as sn\n",
        "sn.set(style='whitegrid')"
      ],
      "execution_count": 0,
      "outputs": [
        {
          "output_type": "stream",
          "text": [
            "/usr/local/lib/python3.6/dist-packages/statsmodels/tools/_testing.py:19: FutureWarning: pandas.util.testing is deprecated. Use the functions in the public API at pandas.testing instead.\n",
            "  import pandas.util.testing as tm\n"
          ],
          "name": "stderr"
        }
      ]
    },
    {
      "cell_type": "markdown",
      "metadata": {
        "id": "dQstqvnAUNwL",
        "colab_type": "text"
      },
      "source": [
        "### load the data"
      ]
    },
    {
      "cell_type": "code",
      "metadata": {
        "id": "7XFfvnZLdF9U",
        "colab_type": "code",
        "colab": {}
      },
      "source": [
        "# load the data\n",
        "fasion_mnist=fetch_openml(name=\"Fashion-MNIST\")"
      ],
      "execution_count": 0,
      "outputs": []
    },
    {
      "cell_type": "code",
      "metadata": {
        "id": "iJmNipYbddA1",
        "colab_type": "code",
        "colab": {}
      },
      "source": [
        "data=fasion_mnist.data\n",
        "images=data.reshape(-1,28,28)\n",
        "target=fasion_mnist.target.astype('int64')"
      ],
      "execution_count": 0,
      "outputs": []
    },
    {
      "cell_type": "code",
      "metadata": {
        "id": "I6gG5fdId-fo",
        "colab_type": "code",
        "outputId": "618042e1-5137-4e08-a21c-173189a8aaf7",
        "colab": {
          "base_uri": "https://localhost:8080/",
          "height": 33
        }
      },
      "source": [
        "#a row in data is an image (28x28 reshaped into a vector of 784 elements)\n",
        "data.shape"
      ],
      "execution_count": 0,
      "outputs": [
        {
          "output_type": "execute_result",
          "data": {
            "text/plain": [
              "(70000, 784)"
            ]
          },
          "metadata": {
            "tags": []
          },
          "execution_count": 4
        }
      ]
    },
    {
      "cell_type": "code",
      "metadata": {
        "id": "FVXSYrAUSxTc",
        "colab_type": "code",
        "outputId": "64c449a2-5c96-4a5f-e43f-18980c6462f5",
        "colab": {
          "base_uri": "https://localhost:8080/",
          "height": 33
        }
      },
      "source": [
        "data[0].shape"
      ],
      "execution_count": 0,
      "outputs": [
        {
          "output_type": "execute_result",
          "data": {
            "text/plain": [
              "(784,)"
            ]
          },
          "metadata": {
            "tags": []
          },
          "execution_count": 5
        }
      ]
    },
    {
      "cell_type": "code",
      "metadata": {
        "id": "3rhx7yoQeaJC",
        "colab_type": "code",
        "outputId": "0cc1fc28-f57a-4ea4-8368-b40db0bb05f9",
        "colab": {
          "base_uri": "https://localhost:8080/",
          "height": 33
        }
      },
      "source": [
        "# images[0] is the first image (28x28)\n",
        "images.shape"
      ],
      "execution_count": 0,
      "outputs": [
        {
          "output_type": "execute_result",
          "data": {
            "text/plain": [
              "(70000, 28, 28)"
            ]
          },
          "metadata": {
            "tags": []
          },
          "execution_count": 6
        }
      ]
    },
    {
      "cell_type": "code",
      "metadata": {
        "id": "Rxa_pKpHf44l",
        "colab_type": "code",
        "outputId": "0491dabd-d120-4f8e-b724-8fdaf5f1f576",
        "colab": {
          "base_uri": "https://localhost:8080/",
          "height": 33
        }
      },
      "source": [
        "images[0].shape"
      ],
      "execution_count": 0,
      "outputs": [
        {
          "output_type": "execute_result",
          "data": {
            "text/plain": [
              "(28, 28)"
            ]
          },
          "metadata": {
            "tags": []
          },
          "execution_count": 7
        }
      ]
    },
    {
      "cell_type": "code",
      "metadata": {
        "id": "JLpI-um4gABM",
        "colab_type": "code",
        "outputId": "35385780-ef1a-4970-b6f1-92fd6cf06ea8",
        "colab": {
          "base_uri": "https://localhost:8080/",
          "height": 33
        }
      },
      "source": [
        "images[0].max()"
      ],
      "execution_count": 0,
      "outputs": [
        {
          "output_type": "execute_result",
          "data": {
            "text/plain": [
              "255.0"
            ]
          },
          "metadata": {
            "tags": []
          },
          "execution_count": 8
        }
      ]
    },
    {
      "cell_type": "code",
      "metadata": {
        "id": "Oq4am_KYiXIJ",
        "colab_type": "code",
        "colab": {}
      },
      "source": [
        "#normalize the value of every pixel into the range of 0 to 1\n",
        "data = data.astype('float32')"
      ],
      "execution_count": 0,
      "outputs": []
    },
    {
      "cell_type": "code",
      "metadata": {
        "id": "vJp2SezWBOzW",
        "colab_type": "code",
        "outputId": "d9617c21-018d-4f71-fb6c-f3dcaa727270",
        "colab": {
          "base_uri": "https://localhost:8080/",
          "height": 33
        }
      },
      "source": [
        "[data.min(), data.max()]"
      ],
      "execution_count": 0,
      "outputs": [
        {
          "output_type": "execute_result",
          "data": {
            "text/plain": [
              "[0.0, 255.0]"
            ]
          },
          "metadata": {
            "tags": []
          },
          "execution_count": 10
        }
      ]
    },
    {
      "cell_type": "code",
      "metadata": {
        "id": "BubCuE3KecJT",
        "colab_type": "code",
        "outputId": "4dbc7972-63af-466c-a319-8044dfeaa14d",
        "colab": {
          "base_uri": "https://localhost:8080/",
          "height": 33
        }
      },
      "source": [
        "#an element in target is the class label of the corresponding image in data\n",
        "target.shape"
      ],
      "execution_count": 0,
      "outputs": [
        {
          "output_type": "execute_result",
          "data": {
            "text/plain": [
              "(70000,)"
            ]
          },
          "metadata": {
            "tags": []
          },
          "execution_count": 11
        }
      ]
    },
    {
      "cell_type": "code",
      "metadata": {
        "id": "s4GECFGlee4r",
        "colab_type": "code",
        "outputId": "fcf01138-f41a-4f82-aa2f-a760d3aa5841",
        "colab": {
          "base_uri": "https://localhost:8080/",
          "height": 33
        }
      },
      "source": [
        "[target.min(), target.max()]"
      ],
      "execution_count": 0,
      "outputs": [
        {
          "output_type": "execute_result",
          "data": {
            "text/plain": [
              "[0, 9]"
            ]
          },
          "metadata": {
            "tags": []
          },
          "execution_count": 12
        }
      ]
    },
    {
      "cell_type": "markdown",
      "metadata": {
        "id": "5B476z9ZUSS5",
        "colab_type": "text"
      },
      "source": [
        "### show some of the images"
      ]
    },
    {
      "cell_type": "code",
      "metadata": {
        "id": "eB3Y-BqTehls",
        "colab_type": "code",
        "outputId": "db5f1f96-ed16-4107-d362-bab5c279e47e",
        "colab": {
          "base_uri": "https://localhost:8080/",
          "height": 228
        }
      },
      "source": [
        "%matplotlib inline\n",
        "import matplotlib.pyplot as plt\n",
        "from IPython import display\n",
        "fig, ax = plt.subplots(figsize=(3, 3))\n",
        "for n in range(0, target.shape[0], 1000):\n",
        "    x=data[n,:]\n",
        "    x=x.reshape(28,28) # reshape a vector to an image\n",
        "    ax.imshow(x, cmap='gray')    \n",
        "    ax.axis('off')\n",
        "    ax.set_title('label: ' + str(int(target[n])), fontsize=16)\n",
        "    plt.draw()\n",
        "    display.clear_output(wait=True)\n",
        "    display.display(fig)\n",
        "    plt.pause(0.1)  "
      ],
      "execution_count": 0,
      "outputs": [
        {
          "output_type": "display_data",
          "data": {
            "image/png": "[encoded data removed]",
            "text/plain": [
              "<Figure size 216x216 with 1 Axes>"
            ]
          },
          "metadata": {
            "tags": []
          }
        },
        {
          "output_type": "display_data",
          "data": {
            "text/plain": [
              "<Figure size 432x288 with 0 Axes>"
            ]
          },
          "metadata": {
            "tags": []
          }
        }
      ]
    },
    {
      "cell_type": "markdown",
      "metadata": {
        "id": "fUbBAVcBhdDo",
        "colab_type": "text"
      },
      "source": [
        "### create the training, testing and validating dataset"
      ]
    },
    {
      "cell_type": "code",
      "metadata": {
        "id": "iPDikD7Sgr9Y",
        "colab_type": "code",
        "outputId": "9b66abd8-951d-422a-da7b-d2bdf9d1ac11",
        "colab": {
          "base_uri": "https://localhost:8080/",
          "height": 66
        }
      },
      "source": [
        "X_train, X_test, Y_train, Y_test = train_test_split(data, target, test_size=0.2, random_state=0)\n",
        "X_train, X_val, Y_train, Y_val = train_test_split(X_train, Y_train, test_size=0.1, random_state=0)\n",
        "print('train:', X_train.shape, Y_train.shape)\n",
        "print('validation:', X_val.shape, Y_val.shape)\n",
        "print('test:', X_test.shape, Y_test.shape)"
      ],
      "execution_count": 0,
      "outputs": [
        {
          "output_type": "stream",
          "text": [
            "train: (50400, 784) (50400,)\n",
            "validation: (5600, 784) (5600,)\n",
            "test: (14000, 784) (14000,)\n"
          ],
          "name": "stdout"
        }
      ]
    },
    {
      "cell_type": "markdown",
      "metadata": {
        "id": "9kAOeSv6UhSD",
        "colab_type": "text"
      },
      "source": [
        "### train the logistic regression model\n",
        "\n",
        "### **Answer:**\n",
        "\n",
        "Logistic regression classification accuracy on test set is 0.8414285714285714"
      ]
    },
    {
      "cell_type": "code",
      "metadata": {
        "id": "MpsVnzF6RLS-",
        "colab_type": "code",
        "outputId": "067ef3fa-5c27-4262-dc51-f3831390485a",
        "colab": {
          "base_uri": "https://localhost:8080/",
          "height": 118
        }
      },
      "source": [
        "from sklearn.linear_model import LogisticRegression\n",
        "from sklearn.metrics import confusion_matrix\n",
        "#set class_weight='balanced'\n",
        "LR=LogisticRegression(penalty='none', class_weight='balanced', multi_class='multinomial', solver='sag', random_state=0, max_iter=200)\n",
        "LR.fit(X_train, Y_train)\n",
        "Y_val_pred=LR.predict(X_val)\n",
        "confusion_val=confusion_matrix(Y_val, Y_val_pred)\n",
        "Y_test_pred=LR.predict(X_test)\n",
        "confusion_test=confusion_matrix(Y_test, Y_test_pred)\n",
        "score_val = LR.score(X_val, Y_val)\n",
        "score_train = LR.score(X_train, Y_train)\n",
        "score_test = LR.score(X_test, Y_test)\n",
        "print('classification accuracy on train set is ', score_train)\n",
        "print('classification accuracy on validation set is ', score_val)\n",
        "print('classification accuracy on test set is ', score_test)"
      ],
      "execution_count": 0,
      "outputs": [
        {
          "output_type": "stream",
          "text": [
            "/usr/local/lib/python3.6/dist-packages/sklearn/linear_model/_sag.py:330: ConvergenceWarning: The max_iter was reached which means the coef_ did not converge\n",
            "  \"the coef_ did not converge\", ConvergenceWarning)\n"
          ],
          "name": "stderr"
        },
        {
          "output_type": "stream",
          "text": [
            "classification accuracy on train set is  0.8818055555555555\n",
            "classification accuracy on validation set is  0.8364285714285714\n",
            "classification accuracy on test set is  0.8414285714285714\n"
          ],
          "name": "stdout"
        }
      ]
    },
    {
      "cell_type": "code",
      "metadata": {
        "id": "iwEGMWaQSXyc",
        "colab_type": "code",
        "outputId": "740db1cd-5260-421a-a0f2-69f956291f2e",
        "colab": {
          "base_uri": "https://localhost:8080/",
          "height": 33
        }
      },
      "source": [
        "# Returns a NumPy Array\n",
        "# Predict for One Observation (image)\n",
        "LR.predict(X_test[0].reshape(1,-1))"
      ],
      "execution_count": 0,
      "outputs": [
        {
          "output_type": "execute_result",
          "data": {
            "text/plain": [
              "array([9])"
            ]
          },
          "metadata": {
            "tags": []
          },
          "execution_count": 21
        }
      ]
    },
    {
      "cell_type": "code",
      "metadata": {
        "id": "NM1dbAQ_SYLj",
        "colab_type": "code",
        "outputId": "6f5068fb-3f9a-4751-ff2e-3f5075bc72ec",
        "colab": {
          "base_uri": "https://localhost:8080/",
          "height": 33
        }
      },
      "source": [
        "LR.predict(X_test[0:10])"
      ],
      "execution_count": 0,
      "outputs": [
        {
          "output_type": "execute_result",
          "data": {
            "text/plain": [
              "array([9, 5, 6, 6, 6, 2, 4, 7, 6, 6])"
            ]
          },
          "metadata": {
            "tags": []
          },
          "execution_count": 22
        }
      ]
    },
    {
      "cell_type": "code",
      "metadata": {
        "id": "9tgl2CbmSbD5",
        "colab_type": "code",
        "colab": {}
      },
      "source": [
        "predictions = LR.predict(X_test)"
      ],
      "execution_count": 0,
      "outputs": []
    },
    {
      "cell_type": "markdown",
      "metadata": {
        "id": "riII36A5Uwcu",
        "colab_type": "text"
      },
      "source": [
        "### Create the confusion matrix\n",
        "\n",
        "#### **Answer:**\n",
        "\n",
        "Actual label 6: label 6 — Shirt is easier to be classified as label 0 — T-shirt/top, label 2 — Pullover, and label 4 — Coat\n",
        "\n",
        "Actual label 2: label 2 — Pullover is easier to be classified as label 4 — Coat\n",
        "\n",
        "Logistic Regression model performs relatively not well on classifying shirt."
      ]
    },
    {
      "cell_type": "code",
      "metadata": {
        "id": "-tQdb5s7Skdr",
        "colab_type": "code",
        "outputId": "8b4a0397-dbf6-4184-fdcd-4229365174ed",
        "colab": {
          "base_uri": "https://localhost:8080/",
          "height": 180
        }
      },
      "source": [
        "cm = metrics.confusion_matrix(Y_test, predictions)\n",
        "print(cm)"
      ],
      "execution_count": 0,
      "outputs": [
        {
          "output_type": "stream",
          "text": [
            "[[1133   12   28   79    6    1  116    0   14    2]\n",
            " [   6 1356   11   37    8    0    3    0    3    0]\n",
            " [  24    5 1017   16  185    0  110    1    8    0]\n",
            " [  64   24   18 1234   62    0   42    0   11    0]\n",
            " [   2    2  113   39 1110    0  114    0    8    0]\n",
            " [   0    2    0    0    0 1254    0   65   15   61]\n",
            " [ 194    7  160   56  151    0  870    1   33    1]\n",
            " [   0    0    0    0    0   52    0 1235    5   62]\n",
            " [   9    4   12   11    8   14   26   12 1245    0]\n",
            " [   0    1    0    0    0   28    1   50    5 1326]]\n"
          ],
          "name": "stdout"
        }
      ]
    },
    {
      "cell_type": "code",
      "metadata": {
        "id": "vakR272KTI9c",
        "colab_type": "code",
        "outputId": "b249c236-f0b6-4b43-b684-d14ab1af3663",
        "colab": {
          "base_uri": "https://localhost:8080/",
          "height": 657
        }
      },
      "source": [
        "plt.figure(figsize=(9,9))\n",
        "plt.imshow(cm, interpolation='nearest', cmap='Pastel1')\n",
        "plt.title('Confusion matrix', size = 15)\n",
        "plt.colorbar()\n",
        "tick_marks = np.arange(10)\n",
        "plt.xticks(tick_marks, [\"0\", \"1\", \"2\", \"3\", \"4\", \"5\", \"6\", \"7\", \"8\", \"9\"], rotation=45, size = 10)\n",
        "plt.yticks(tick_marks, [\"0\", \"1\", \"2\", \"3\", \"4\", \"5\", \"6\", \"7\", \"8\", \"9\"], size = 10)\n",
        "plt.tight_layout()\n",
        "plt.ylabel('Actual label', size = 15)\n",
        "plt.xlabel('Predicted label', size = 15)\n",
        "width, height = cm.shape\n",
        "for x in range(width):    \n",
        "  for y in range(height):\n",
        "    plt.annotate(str(cm[x][y]), xy=(y, x), \n",
        "    horizontalalignment='center',\n",
        "    verticalalignment='center')"
      ],
      "execution_count": 0,
      "outputs": [
        {
          "output_type": "display_data",
          "data": {
            "image/png": "[encoded data removed]",
            "text/plain": [
              "<Figure size 648x648 with 2 Axes>"
            ]
          },
          "metadata": {
            "tags": [],
            "needs_background": "light"
          }
        }
      ]
    },
    {
      "cell_type": "code",
      "metadata": {
        "id": "finia2qVECAL",
        "colab_type": "code",
        "colab": {}
      },
      "source": [
        ""
      ],
      "execution_count": 0,
      "outputs": []
    }
  ]
}