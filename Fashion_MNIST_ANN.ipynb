{
  "nbformat": 4,
  "nbformat_minor": 0,
  "metadata": {
    "colab": {
      "name": "Fashion_MNIST_ANN",
      "provenance": [],
      "collapsed_sections": [
        "IS3zisb5xRY3"
      ]
    },
    "kernelspec": {
      "name": "python3",
      "display_name": "Python 3"
    },
    "accelerator": "GPU"
  },
  "cells": [
    {
      "cell_type": "markdown",
      "metadata": {
        "id": "fuDOunxkdGeX",
        "colab_type": "text"
      },
      "source": [
        "# Fashion MINST Classification with shadow ANN\n",
        "The notebook build shadow ANN to classify the images of Fashion MNIST into 10 classes\n",
        "\n",
        "## *Question: How does the shadow ANN model perform on classifying the images of fashion ? Which category does this model make more mistakes?*\n",
        "\n",
        "### **Result:**\n",
        "#### ***sparse_categorical_crossentropy***\n",
        "Test accuracy: 0.8970714211463928\n",
        "\n",
        "#### ***categorical_crossentropy***\n",
        "Test accuracy: 0.8812857270240784\n",
        "\n",
        "There is no significant misclassification between two categories. ANN model performs relatively not well on classifying shirt."
      ]
    },
    {
      "cell_type": "markdown",
      "metadata": {
        "id": "P8Ct30ypfQ89",
        "colab_type": "text"
      },
      "source": [
        "### load data and reshape the data"
      ]
    },
    {
      "cell_type": "code",
      "metadata": {
        "id": "mN3ckYfec6EJ",
        "colab_type": "code",
        "colab": {}
      },
      "source": [
        "# import library\n",
        "import tensorflow.keras as keras\n",
        "import sys\n",
        "sys.modules['keras'] = keras\n",
        "from keras.models import Sequential\n",
        "from keras.layers import Dense # define a layer\n",
        "from keras.optimizers import SGD # this is a mini batch method\n",
        "from keras.datasets import mnist\n",
        "import matplotlib.pyplot as plt\n",
        "from IPython import display\n",
        "import numpy as np\n",
        "from sklearn.datasets import fetch_openml"
      ],
      "execution_count": 0,
      "outputs": []
    },
    {
      "cell_type": "code",
      "metadata": {
        "id": "7XFfvnZLdF9U",
        "colab_type": "code",
        "colab": {}
      },
      "source": [
        "# load the data\n",
        "fasion_mnist=fetch_openml(name=\"Fashion-MNIST\")"
      ],
      "execution_count": 0,
      "outputs": []
    },
    {
      "cell_type": "code",
      "metadata": {
        "id": "iJmNipYbddA1",
        "colab_type": "code",
        "colab": {}
      },
      "source": [
        "data=fasion_mnist.data\n",
        "images=data.reshape(-1,28,28)\n",
        "target=fasion_mnist.target.astype('int64')"
      ],
      "execution_count": 0,
      "outputs": []
    },
    {
      "cell_type": "code",
      "metadata": {
        "id": "I6gG5fdId-fo",
        "colab_type": "code",
        "outputId": "557218ec-50e5-4f04-bd06-f490c1ce0915",
        "colab": {
          "base_uri": "https://localhost:8080/",
          "height": 33
        }
      },
      "source": [
        "#a row in data is an image (28x28 reshaped into a vector of 784 elements)\n",
        "data.shape"
      ],
      "execution_count": 0,
      "outputs": [
        {
          "output_type": "execute_result",
          "data": {
            "text/plain": [
              "(70000, 784)"
            ]
          },
          "metadata": {
            "tags": []
          },
          "execution_count": 4
        }
      ]
    },
    {
      "cell_type": "code",
      "metadata": {
        "id": "3rhx7yoQeaJC",
        "colab_type": "code",
        "outputId": "764c409b-97cf-4055-9127-b99e92516db3",
        "colab": {
          "base_uri": "https://localhost:8080/",
          "height": 33
        }
      },
      "source": [
        "# images[0] is the first image (28x28)\n",
        "images.shape"
      ],
      "execution_count": 0,
      "outputs": [
        {
          "output_type": "execute_result",
          "data": {
            "text/plain": [
              "(70000, 28, 28)"
            ]
          },
          "metadata": {
            "tags": []
          },
          "execution_count": 5
        }
      ]
    },
    {
      "cell_type": "code",
      "metadata": {
        "id": "Rxa_pKpHf44l",
        "colab_type": "code",
        "outputId": "0e4aee9d-2518-4cb4-8074-becb965d6e10",
        "colab": {
          "base_uri": "https://localhost:8080/",
          "height": 33
        }
      },
      "source": [
        "images[0].shape"
      ],
      "execution_count": 0,
      "outputs": [
        {
          "output_type": "execute_result",
          "data": {
            "text/plain": [
              "(28, 28)"
            ]
          },
          "metadata": {
            "tags": []
          },
          "execution_count": 6
        }
      ]
    },
    {
      "cell_type": "code",
      "metadata": {
        "id": "JLpI-um4gABM",
        "colab_type": "code",
        "outputId": "23c52d8b-a426-47f8-dc64-a26996fe5860",
        "colab": {
          "base_uri": "https://localhost:8080/",
          "height": 33
        }
      },
      "source": [
        "images[0].max()"
      ],
      "execution_count": 0,
      "outputs": [
        {
          "output_type": "execute_result",
          "data": {
            "text/plain": [
              "255.0"
            ]
          },
          "metadata": {
            "tags": []
          },
          "execution_count": 7
        }
      ]
    },
    {
      "cell_type": "markdown",
      "metadata": {
        "id": "Ygk6_xhBWJrV",
        "colab_type": "text"
      },
      "source": [
        "### Normalize the data"
      ]
    },
    {
      "cell_type": "code",
      "metadata": {
        "id": "Oq4am_KYiXIJ",
        "colab_type": "code",
        "colab": {}
      },
      "source": [
        "#normalize the value of every pixel into the range of 0 to 1\n",
        "data = data.astype('float32')\n",
        "data /= 255"
      ],
      "execution_count": 0,
      "outputs": []
    },
    {
      "cell_type": "code",
      "metadata": {
        "id": "BubCuE3KecJT",
        "colab_type": "code",
        "outputId": "af5564a4-ebde-4814-a61b-d227c15337dc",
        "colab": {
          "base_uri": "https://localhost:8080/",
          "height": 33
        }
      },
      "source": [
        "#an element in target is the class label of the corresponding image in data\n",
        "target.shape"
      ],
      "execution_count": 0,
      "outputs": [
        {
          "output_type": "execute_result",
          "data": {
            "text/plain": [
              "(70000,)"
            ]
          },
          "metadata": {
            "tags": []
          },
          "execution_count": 9
        }
      ]
    },
    {
      "cell_type": "code",
      "metadata": {
        "id": "s4GECFGlee4r",
        "colab_type": "code",
        "outputId": "902c41ad-f9b9-478c-c80c-3a5a9e130c7e",
        "colab": {
          "base_uri": "https://localhost:8080/",
          "height": 33
        }
      },
      "source": [
        "[target.min(), target.max()]"
      ],
      "execution_count": 0,
      "outputs": [
        {
          "output_type": "execute_result",
          "data": {
            "text/plain": [
              "[0, 9]"
            ]
          },
          "metadata": {
            "tags": []
          },
          "execution_count": 10
        }
      ]
    },
    {
      "cell_type": "markdown",
      "metadata": {
        "id": "J6RocT2uWMoB",
        "colab_type": "text"
      },
      "source": [
        "### Show images of dataset"
      ]
    },
    {
      "cell_type": "code",
      "metadata": {
        "id": "daBaJ8ebZgdW",
        "colab_type": "code",
        "outputId": "1ffaf68a-080a-4af6-8e18-0a8e224cef69",
        "colab": {
          "base_uri": "https://localhost:8080/",
          "height": 482
        }
      },
      "source": [
        "plt.figure(figsize=(10,10))\n",
        "for i in range(0,20):\n",
        "    plt.subplot(5,5, i+1)\n",
        "    plt.imshow(images[i])\n",
        "    plt.title(target[i])\n",
        "    plt.xticks([])\n",
        "    plt.yticks([])"
      ],
      "execution_count": 0,
      "outputs": [
        {
          "output_type": "display_data",
          "data": {
            "image/png": "[encoded data removed]",
            "text/plain": [
              "<Figure size 720x720 with 20 Axes>"
            ]
          },
          "metadata": {
            "tags": []
          }
        }
      ]
    },
    {
      "cell_type": "code",
      "metadata": {
        "id": "eB3Y-BqTehls",
        "colab_type": "code",
        "outputId": "108a6b64-ef62-49d1-d8d4-e48beadbcea1",
        "colab": {
          "base_uri": "https://localhost:8080/",
          "height": 228
        }
      },
      "source": [
        "# show some of the images\n",
        "%matplotlib inline\n",
        "import matplotlib.pyplot as plt\n",
        "from IPython import display\n",
        "fig, ax = plt.subplots(figsize=(3, 3))\n",
        "for n in range(0, target.shape[0], 1000):\n",
        "    x=data[n,:]\n",
        "    x=x.reshape(28,28) # reshape a vector to an image\n",
        "    ax.imshow(x, cmap='gray')    \n",
        "    ax.axis('off')\n",
        "    ax.set_title('label: ' + str(int(target[n])), fontsize=16)\n",
        "    plt.draw()\n",
        "    display.clear_output(wait=True)\n",
        "    display.display(fig)\n",
        "    plt.pause(0.1)  "
      ],
      "execution_count": 0,
      "outputs": [
        {
          "output_type": "display_data",
          "data": {
            "image/png": "[encoded data removed]",
            "text/plain": [
              "<Figure size 216x216 with 1 Axes>"
            ]
          },
          "metadata": {
            "tags": []
          }
        },
        {
          "output_type": "display_data",
          "data": {
            "text/plain": [
              "<Figure size 432x288 with 0 Axes>"
            ]
          },
          "metadata": {
            "tags": []
          }
        }
      ]
    },
    {
      "cell_type": "markdown",
      "metadata": {
        "id": "fUbBAVcBhdDo",
        "colab_type": "text"
      },
      "source": [
        "### create the training, testing and validating dataset"
      ]
    },
    {
      "cell_type": "code",
      "metadata": {
        "id": "iPDikD7Sgr9Y",
        "colab_type": "code",
        "colab": {}
      },
      "source": [
        "from sklearn.model_selection import train_test_split\n",
        "x_train, x_test, y_train, y_test = train_test_split(data, target, test_size=0.2, random_state=0)"
      ],
      "execution_count": 0,
      "outputs": []
    },
    {
      "cell_type": "code",
      "metadata": {
        "id": "dYIqYYafejea",
        "colab_type": "code",
        "colab": {}
      },
      "source": [
        "x_train, x_val, y_train, y_val = train_test_split(x_train, y_train, test_size=0.1, random_state=0)"
      ],
      "execution_count": 0,
      "outputs": []
    },
    {
      "cell_type": "code",
      "metadata": {
        "id": "CUWuuGXPhTic",
        "colab_type": "code",
        "outputId": "d0ad7701-cdd5-4a3d-d5d8-fd71532af5ac",
        "colab": {
          "base_uri": "https://localhost:8080/",
          "height": 66
        }
      },
      "source": [
        "print('train:', x_train.shape, y_train.shape)\n",
        "print('validation:', x_val.shape, y_val.shape)\n",
        "print('test:', x_test.shape, y_test.shape)"
      ],
      "execution_count": 0,
      "outputs": [
        {
          "output_type": "stream",
          "text": [
            "train: (50400, 784) (50400,)\n",
            "validation: (5600, 784) (5600,)\n",
            "test: (14000, 784) (14000,)\n"
          ],
          "name": "stdout"
        }
      ]
    },
    {
      "cell_type": "code",
      "metadata": {
        "id": "GhHZPUabh0S1",
        "colab_type": "code",
        "outputId": "90ac4c20-c226-4765-9536-c8bad3f2a280",
        "colab": {
          "base_uri": "https://localhost:8080/",
          "height": 281
        }
      },
      "source": [
        "#the first image in the training set\n",
        "plt.imshow(x_train[0].reshape(28,28), cmap='gray')"
      ],
      "execution_count": 0,
      "outputs": [
        {
          "output_type": "execute_result",
          "data": {
            "text/plain": [
              "<matplotlib.image.AxesImage at 0x7f23a2cee128>"
            ]
          },
          "metadata": {
            "tags": []
          },
          "execution_count": 16
        },
        {
          "output_type": "display_data",
          "data": {
            "image/png": "[encoded data removed]",
            "text/plain": [
              "<Figure size 432x288 with 1 Axes>"
            ]
          },
          "metadata": {
            "tags": [],
            "needs_background": "light"
          }
        }
      ]
    },
    {
      "cell_type": "code",
      "metadata": {
        "id": "fvRrmFFxiwom",
        "colab_type": "code",
        "outputId": "65e42d35-eaf7-453b-9732-77b0c8e2218b",
        "colab": {
          "base_uri": "https://localhost:8080/",
          "height": 33
        }
      },
      "source": [
        "#the class label of the first training sample\n",
        "y_train[0]"
      ],
      "execution_count": 0,
      "outputs": [
        {
          "output_type": "execute_result",
          "data": {
            "text/plain": [
              "6"
            ]
          },
          "metadata": {
            "tags": []
          },
          "execution_count": 17
        }
      ]
    },
    {
      "cell_type": "markdown",
      "metadata": {
        "id": "B-rfycnEu9o-",
        "colab_type": "text"
      },
      "source": [
        "### when loss =  sparse categorical crossentropy"
      ]
    },
    {
      "cell_type": "markdown",
      "metadata": {
        "id": "IS3zisb5xRY3",
        "colab_type": "text"
      },
      "source": [
        "#### Define the ANN model\n"
      ]
    },
    {
      "cell_type": "code",
      "metadata": {
        "id": "KNG2V9F0u9ny",
        "colab_type": "code",
        "outputId": "d99f07b7-4627-4640-dbb0-025584b64b62",
        "colab": {
          "base_uri": "https://localhost:8080/"
        }
      },
      "source": [
        "model = Sequential()\n",
        "model.add(Dense(units=256, activation='relu', input_shape=(784,)))\n",
        "model.add(Dense(units=256, activation='relu'))\n",
        "model.add(Dense(units=10, activation='softmax'))\n",
        "model.compile(loss='sparse_categorical_crossentropy', optimizer=SGD(lr=0.01, momentum=0.9), \n",
        "              metrics=['accuracy'])\n",
        "model.summary()"
      ],
      "execution_count": 0,
      "outputs": [
        {
          "output_type": "stream",
          "text": [
            "Model: \"sequential\"\n",
            "_________________________________________________________________\n",
            "Layer (type)                 Output Shape              Param #   \n",
            "=================================================================\n",
            "dense (Dense)                (None, 256)               200960    \n",
            "_________________________________________________________________\n",
            "dense_1 (Dense)              (None, 256)               65792     \n",
            "_________________________________________________________________\n",
            "dense_2 (Dense)              (None, 10)                2570      \n",
            "=================================================================\n",
            "Total params: 269,322\n",
            "Trainable params: 269,322\n",
            "Non-trainable params: 0\n",
            "_________________________________________________________________\n"
          ],
          "name": "stdout"
        }
      ]
    },
    {
      "cell_type": "code",
      "metadata": {
        "id": "RUwt7b3iu9iC",
        "colab_type": "code",
        "colab": {}
      },
      "source": [
        "loss_train_list=[]\n",
        "loss_val_list=[]\n",
        "acc_train_list=[]\n",
        "acc_val_list=[]"
      ],
      "execution_count": 0,
      "outputs": []
    },
    {
      "cell_type": "markdown",
      "metadata": {
        "id": "GLfVG9T7xbHq",
        "colab_type": "text"
      },
      "source": [
        "#### Train the model"
      ]
    },
    {
      "cell_type": "code",
      "metadata": {
        "id": "H_mB_uWku9bN",
        "colab_type": "code",
        "outputId": "c2729062-da96-4625-d4c2-dd5633e929b6",
        "colab": {
          "base_uri": "https://localhost:8080/",
          "height": 667
        }
      },
      "source": [
        "for epoch in range(0, 20):   \n",
        "    print('epoch', epoch)\n",
        "    #set epochs=1\n",
        "    history=model.fit(x_train, y_train, batch_size=64, epochs=1, validation_data=(x_val, y_val))\n",
        "    loss_train_list.extend(history.history['loss'])\n",
        "    loss_val_list.extend(history.history['val_loss'])\n",
        "    acc_train_list.extend(history.history['accuracy'])\n",
        "    acc_val_list.extend(history.history['val_accuracy'])\n",
        "    #save the model to a a HDF5 file \n",
        "    model.save('NN_multiclass_classification_Keras_sCE_e'+str(epoch)+'.h5')"
      ],
      "execution_count": 0,
      "outputs": [
        {
          "output_type": "stream",
          "text": [
            "epoch 0\n",
            "788/788 [==============================] - 2s 2ms/step - loss: 0.5830 - accuracy: 0.7951 - val_loss: 0.4472 - val_accuracy: 0.8355\n",
            "epoch 1\n",
            "788/788 [==============================] - 2s 2ms/step - loss: 0.4084 - accuracy: 0.8522 - val_loss: 0.4320 - val_accuracy: 0.8482\n",
            "epoch 2\n",
            "788/788 [==============================] - 2s 2ms/step - loss: 0.3681 - accuracy: 0.8661 - val_loss: 0.3719 - val_accuracy: 0.8598\n",
            "epoch 3\n",
            "788/788 [==============================] - 2s 2ms/step - loss: 0.3343 - accuracy: 0.8782 - val_loss: 0.3514 - val_accuracy: 0.8680\n",
            "epoch 4\n",
            "788/788 [==============================] - 2s 2ms/step - loss: 0.3214 - accuracy: 0.8816 - val_loss: 0.3304 - val_accuracy: 0.8793\n",
            "epoch 5\n",
            "788/788 [==============================] - 2s 2ms/step - loss: 0.3050 - accuracy: 0.8876 - val_loss: 0.3225 - val_accuracy: 0.8766\n",
            "epoch 6\n",
            "788/788 [==============================] - 2s 2ms/step - loss: 0.2929 - accuracy: 0.8928 - val_loss: 0.3322 - val_accuracy: 0.8795\n",
            "epoch 7\n",
            "788/788 [==============================] - 2s 2ms/step - loss: 0.2801 - accuracy: 0.8958 - val_loss: 0.3030 - val_accuracy: 0.8871\n",
            "epoch 8\n",
            "788/788 [==============================] - 2s 2ms/step - loss: 0.2698 - accuracy: 0.9001 - val_loss: 0.3006 - val_accuracy: 0.8868\n",
            "epoch 9\n",
            "788/788 [==============================] - 2s 2ms/step - loss: 0.2599 - accuracy: 0.9042 - val_loss: 0.3339 - val_accuracy: 0.8750\n",
            "epoch 10\n",
            "788/788 [==============================] - 2s 2ms/step - loss: 0.2513 - accuracy: 0.9073 - val_loss: 0.3017 - val_accuracy: 0.8863\n",
            "epoch 11\n",
            "788/788 [==============================] - 2s 2ms/step - loss: 0.2431 - accuracy: 0.9099 - val_loss: 0.2997 - val_accuracy: 0.8911\n",
            "epoch 12\n",
            "788/788 [==============================] - 2s 2ms/step - loss: 0.2325 - accuracy: 0.9135 - val_loss: 0.2892 - val_accuracy: 0.8929\n",
            "epoch 13\n",
            "788/788 [==============================] - 2s 2ms/step - loss: 0.2287 - accuracy: 0.9150 - val_loss: 0.3130 - val_accuracy: 0.8863\n",
            "epoch 14\n",
            "788/788 [==============================] - 2s 2ms/step - loss: 0.2165 - accuracy: 0.9198 - val_loss: 0.2810 - val_accuracy: 0.8952\n",
            "epoch 15\n",
            "788/788 [==============================] - 2s 2ms/step - loss: 0.2110 - accuracy: 0.9219 - val_loss: 0.3005 - val_accuracy: 0.8896\n",
            "epoch 16\n",
            "788/788 [==============================] - 2s 2ms/step - loss: 0.2054 - accuracy: 0.9227 - val_loss: 0.2978 - val_accuracy: 0.8911\n",
            "epoch 17\n",
            "788/788 [==============================] - 2s 2ms/step - loss: 0.2018 - accuracy: 0.9243 - val_loss: 0.2884 - val_accuracy: 0.8893\n",
            "epoch 18\n",
            "788/788 [==============================] - 2s 2ms/step - loss: 0.1899 - accuracy: 0.9294 - val_loss: 0.2906 - val_accuracy: 0.8923\n",
            "epoch 19\n",
            "788/788 [==============================] - 2s 3ms/step - loss: 0.1883 - accuracy: 0.9291 - val_loss: 0.2956 - val_accuracy: 0.8936\n"
          ],
          "name": "stdout"
        }
      ]
    },
    {
      "cell_type": "markdown",
      "metadata": {
        "id": "6_y9tDT5xg_T",
        "colab_type": "text"
      },
      "source": [
        "#### Plot training loss vs epoch and validation loss vs epoch"
      ]
    },
    {
      "cell_type": "code",
      "metadata": {
        "id": "buB_OgUVu9UL",
        "colab_type": "code",
        "outputId": "d22d9cc0-19f6-4a1a-f95d-d790b2de6763",
        "colab": {
          "base_uri": "https://localhost:8080/",
          "height": 33
        }
      },
      "source": [
        "history.history.keys()"
      ],
      "execution_count": 0,
      "outputs": [
        {
          "output_type": "execute_result",
          "data": {
            "text/plain": [
              "dict_keys(['loss', 'accuracy', 'val_loss', 'val_accuracy'])"
            ]
          },
          "metadata": {
            "tags": []
          },
          "execution_count": 21
        }
      ]
    },
    {
      "cell_type": "code",
      "metadata": {
        "id": "Rhfe8AJDu9N9",
        "colab_type": "code",
        "outputId": "3975ecfe-3217-423c-e02d-88ff31bf31f3",
        "colab": {
          "base_uri": "https://localhost:8080/",
          "height": 395
        }
      },
      "source": [
        "fig, ax = plt.subplots(1, 2, figsize=(12,6))\n",
        "ax[0].plot(np.arange(0,len(loss_train_list)), loss_train_list, '-b', label='training loss')\n",
        "ax[0].plot(np.arange(0,len(loss_val_list)), loss_val_list, '-r', label='validation loss')\n",
        "ax[0].set_xlabel('epoch',fontsize=16)\n",
        "ax[0].legend(fontsize=16)\n",
        "ax[0].grid(True)\n",
        "ax[1].plot(np.arange(0,len(acc_train_list)), acc_train_list, '-b', label='training accuracy')\n",
        "ax[1].plot(np.arange(0,len(acc_val_list)), acc_val_list, '-r', label='validation accuracy')\n",
        "ax[1].set_xlabel('epoch',fontsize=16)\n",
        "ax[1].legend(fontsize=16)\n",
        "ax[1].grid(True)"
      ],
      "execution_count": 0,
      "outputs": [
        {
          "output_type": "display_data",
          "data": {
            "image/png": "[encoded data removed]",
            "text/plain": [
              "<Figure size 864x432 with 2 Axes>"
            ]
          },
          "metadata": {
            "tags": [],
            "needs_background": "light"
          }
        }
      ]
    },
    {
      "cell_type": "markdown",
      "metadata": {
        "id": "ouoBaV6iWeSS",
        "colab_type": "text"
      },
      "source": [
        "#### load the best model"
      ]
    },
    {
      "cell_type": "code",
      "metadata": {
        "id": "UjLYGRSXu9GD",
        "colab_type": "code",
        "colab": {}
      },
      "source": [
        "from keras.models import load_model\n",
        "model = load_model('NN_multiclass_classification_Keras_sCE_e14.h5')"
      ],
      "execution_count": 0,
      "outputs": []
    },
    {
      "cell_type": "code",
      "metadata": {
        "id": "xP3uareZu9Ab",
        "colab_type": "code",
        "outputId": "c0031c89-be7b-4292-9d2f-f3a55d1dfbeb",
        "colab": {
          "base_uri": "https://localhost:8080/",
          "height": 50
        }
      },
      "source": [
        "score = model.evaluate(x_test, y_test, batch_size=64, verbose=0)\n",
        "print('Test loss:', score[0])\n",
        "print('Test accuracy:', score[1])"
      ],
      "execution_count": 0,
      "outputs": [
        {
          "output_type": "stream",
          "text": [
            "Test loss: 0.2987405061721802\n",
            "Test accuracy: 0.8952142596244812\n"
          ],
          "name": "stdout"
        }
      ]
    },
    {
      "cell_type": "code",
      "metadata": {
        "id": "Mcj_F7q3u838",
        "colab_type": "code",
        "colab": {}
      },
      "source": [
        "y_test_pred=model.predict(x_test, batch_size=64)"
      ],
      "execution_count": 0,
      "outputs": []
    },
    {
      "cell_type": "code",
      "metadata": {
        "id": "4yxGqjuXu8x3",
        "colab_type": "code",
        "outputId": "1b4f2647-8a6c-4dc5-8b2f-d3bb3d8f54d2",
        "colab": {
          "base_uri": "https://localhost:8080/",
          "height": 281
        }
      },
      "source": [
        "#the first image in the test set\n",
        "plt.imshow(x_test[0].reshape(28,28), cmap='gray')"
      ],
      "execution_count": 0,
      "outputs": [
        {
          "output_type": "execute_result",
          "data": {
            "text/plain": [
              "<matplotlib.image.AxesImage at 0x7f23a3ba3940>"
            ]
          },
          "metadata": {
            "tags": []
          },
          "execution_count": 26
        },
        {
          "output_type": "display_data",
          "data": {
            "image/png": "[encoded data removed]",
            "text/plain": [
              "<Figure size 432x288 with 1 Axes>"
            ]
          },
          "metadata": {
            "tags": [],
            "needs_background": "light"
          }
        }
      ]
    },
    {
      "cell_type": "code",
      "metadata": {
        "id": "31Nu1wobu8sD",
        "colab_type": "code",
        "outputId": "93ba2db5-894e-421f-e68a-13e0e997180d",
        "colab": {
          "base_uri": "https://localhost:8080/",
          "height": 66
        }
      },
      "source": [
        "y_test_pred[0]"
      ],
      "execution_count": 0,
      "outputs": [
        {
          "output_type": "execute_result",
          "data": {
            "text/plain": [
              "array([5.4929075e-09, 2.9066083e-09, 1.2068359e-10, 5.5985695e-11,\n",
              "       3.4158672e-11, 4.9521125e-09, 5.6479843e-10, 3.1681600e-04,\n",
              "       2.5645934e-09, 9.9968314e-01], dtype=float32)"
            ]
          },
          "metadata": {
            "tags": []
          },
          "execution_count": 27
        }
      ]
    },
    {
      "cell_type": "code",
      "metadata": {
        "id": "yoUUtnmFu8jM",
        "colab_type": "code",
        "outputId": "39567afc-9dbc-4752-a521-11ed1261039c",
        "colab": {
          "base_uri": "https://localhost:8080/",
          "height": 33
        }
      },
      "source": [
        "np.argmax(y_test_pred[0])"
      ],
      "execution_count": 0,
      "outputs": [
        {
          "output_type": "execute_result",
          "data": {
            "text/plain": [
              "9"
            ]
          },
          "metadata": {
            "tags": []
          },
          "execution_count": 28
        }
      ]
    },
    {
      "cell_type": "code",
      "metadata": {
        "id": "oE3QbIOLwuNY",
        "colab_type": "code",
        "outputId": "b8cf1c50-66a1-49c3-961e-b52746e3c916",
        "colab": {
          "base_uri": "https://localhost:8080/",
          "height": 33
        }
      },
      "source": [
        "y_test[0]"
      ],
      "execution_count": 0,
      "outputs": [
        {
          "output_type": "execute_result",
          "data": {
            "text/plain": [
              "9"
            ]
          },
          "metadata": {
            "tags": []
          },
          "execution_count": 29
        }
      ]
    },
    {
      "cell_type": "markdown",
      "metadata": {
        "id": "bmeNfHG9u2Km",
        "colab_type": "text"
      },
      "source": [
        "### when loss = Categorical_crossentropy\n"
      ]
    },
    {
      "cell_type": "markdown",
      "metadata": {
        "id": "ZG2ZEG_1Wlh0",
        "colab_type": "text"
      },
      "source": [
        "#### One hot encoding to dataset"
      ]
    },
    {
      "cell_type": "code",
      "metadata": {
        "id": "ZU_NzncPiyy3",
        "colab_type": "code",
        "colab": {}
      },
      "source": [
        "# apply one-hot encoding to the training, validation, and test set\n",
        "y_train = keras.utils.to_categorical(y_train, 10)\n",
        "y_val = keras.utils.to_categorical(y_val, 10)\n",
        "y_test = keras.utils.to_categorical(y_test, 10)"
      ],
      "execution_count": 0,
      "outputs": []
    },
    {
      "cell_type": "code",
      "metadata": {
        "id": "WY9dCshqjJ74",
        "colab_type": "code",
        "outputId": "3be23695-d96f-4e66-b3c8-8a5533460b8f",
        "colab": {
          "base_uri": "https://localhost:8080/",
          "height": 33
        }
      },
      "source": [
        "# to use categorical_crossentropy loss in Keras !!!!!\n",
        "# we convert every class label into a one-hot vector of 10 elements (there are 10 classes)\n",
        "y_train[0]"
      ],
      "execution_count": 0,
      "outputs": [
        {
          "output_type": "execute_result",
          "data": {
            "text/plain": [
              "array([0., 0., 0., 0., 0., 0., 1., 0., 0., 0.], dtype=float32)"
            ]
          },
          "metadata": {
            "tags": []
          },
          "execution_count": 31
        }
      ]
    },
    {
      "cell_type": "markdown",
      "metadata": {
        "id": "VT5N5f5NjQ8K",
        "colab_type": "text"
      },
      "source": [
        "#### Define the MLP model"
      ]
    },
    {
      "cell_type": "code",
      "metadata": {
        "id": "xxq5kROGjNdx",
        "colab_type": "code",
        "outputId": "ca17b8f0-dcb8-40cf-e972-34986b075f88",
        "colab": {
          "base_uri": "https://localhost:8080/",
          "height": 245
        }
      },
      "source": [
        "model = Sequential()\n",
        "model.add(Dense(units=256, activation='relu', input_shape=(784,)))\n",
        "model.add(Dense(units=256, activation='relu'))\n",
        "model.add(Dense(units=10, activation='softmax')) # because there are 10 classes\n",
        "model.compile(loss='categorical_crossentropy', optimizer=SGD(lr=0.01), metrics=['accuracy']) # assemble those layers together\n",
        "model.summary()"
      ],
      "execution_count": 0,
      "outputs": [
        {
          "output_type": "stream",
          "text": [
            "Model: \"sequential_1\"\n",
            "_________________________________________________________________\n",
            "Layer (type)                 Output Shape              Param #   \n",
            "=================================================================\n",
            "dense_3 (Dense)              (None, 256)               200960    \n",
            "_________________________________________________________________\n",
            "dense_4 (Dense)              (None, 256)               65792     \n",
            "_________________________________________________________________\n",
            "dense_5 (Dense)              (None, 10)                2570      \n",
            "=================================================================\n",
            "Total params: 269,322\n",
            "Trainable params: 269,322\n",
            "Non-trainable params: 0\n",
            "_________________________________________________________________\n"
          ],
          "name": "stdout"
        }
      ]
    },
    {
      "cell_type": "markdown",
      "metadata": {
        "id": "yuOrEQXIyLA-",
        "colab_type": "text"
      },
      "source": [
        "#### Train the model "
      ]
    },
    {
      "cell_type": "code",
      "metadata": {
        "id": "ZIGjBKaljXZB",
        "colab_type": "code",
        "outputId": "f55d8870-0301-4349-f4d8-1353da52dd66",
        "colab": {
          "base_uri": "https://localhost:8080/",
          "height": 1000
        }
      },
      "source": [
        "history=model.fit(x_train, y_train, batch_size=64, epochs=100, validation_data=(x_val, y_val))\n",
        "# set an epochs and see the curves and adjust it"
      ],
      "execution_count": 0,
      "outputs": [
        {
          "output_type": "stream",
          "text": [
            "Epoch 1/100\n",
            "788/788 [==============================] - 2s 3ms/step - loss: 0.9289 - accuracy: 0.7048 - val_loss: 0.6250 - val_accuracy: 0.8011\n",
            "Epoch 2/100\n",
            "788/788 [==============================] - 2s 3ms/step - loss: 0.5718 - accuracy: 0.8076 - val_loss: 0.5344 - val_accuracy: 0.8139\n",
            "Epoch 3/100\n",
            "788/788 [==============================] - 2s 2ms/step - loss: 0.5052 - accuracy: 0.8262 - val_loss: 0.4936 - val_accuracy: 0.8243\n",
            "Epoch 4/100\n",
            "788/788 [==============================] - 2s 3ms/step - loss: 0.4738 - accuracy: 0.8359 - val_loss: 0.4716 - val_accuracy: 0.8366\n",
            "Epoch 5/100\n",
            "788/788 [==============================] - 2s 3ms/step - loss: 0.4516 - accuracy: 0.8431 - val_loss: 0.4499 - val_accuracy: 0.8414\n",
            "Epoch 6/100\n",
            "788/788 [==============================] - 2s 2ms/step - loss: 0.4361 - accuracy: 0.8475 - val_loss: 0.4532 - val_accuracy: 0.8368\n",
            "Epoch 7/100\n",
            "788/788 [==============================] - 2s 2ms/step - loss: 0.4229 - accuracy: 0.8528 - val_loss: 0.4301 - val_accuracy: 0.8405\n",
            "Epoch 8/100\n",
            "788/788 [==============================] - 2s 3ms/step - loss: 0.4127 - accuracy: 0.8564 - val_loss: 0.4171 - val_accuracy: 0.8504\n",
            "Epoch 9/100\n",
            "788/788 [==============================] - 2s 3ms/step - loss: 0.4022 - accuracy: 0.8599 - val_loss: 0.4247 - val_accuracy: 0.8480\n",
            "Epoch 10/100\n",
            "788/788 [==============================] - 2s 3ms/step - loss: 0.3934 - accuracy: 0.8629 - val_loss: 0.4049 - val_accuracy: 0.8529\n",
            "Epoch 11/100\n",
            "788/788 [==============================] - 2s 3ms/step - loss: 0.3858 - accuracy: 0.8644 - val_loss: 0.4158 - val_accuracy: 0.8464\n",
            "Epoch 12/100\n",
            "788/788 [==============================] - 2s 3ms/step - loss: 0.3782 - accuracy: 0.8679 - val_loss: 0.4711 - val_accuracy: 0.8257\n",
            "Epoch 13/100\n",
            "788/788 [==============================] - 2s 3ms/step - loss: 0.3722 - accuracy: 0.8695 - val_loss: 0.3793 - val_accuracy: 0.8623\n",
            "Epoch 14/100\n",
            "788/788 [==============================] - 2s 2ms/step - loss: 0.3665 - accuracy: 0.8711 - val_loss: 0.3810 - val_accuracy: 0.8618\n",
            "Epoch 15/100\n",
            "788/788 [==============================] - 2s 2ms/step - loss: 0.3592 - accuracy: 0.8740 - val_loss: 0.3887 - val_accuracy: 0.8636\n",
            "Epoch 16/100\n",
            "788/788 [==============================] - 2s 2ms/step - loss: 0.3538 - accuracy: 0.8746 - val_loss: 0.3773 - val_accuracy: 0.8623\n",
            "Epoch 17/100\n",
            "788/788 [==============================] - 2s 2ms/step - loss: 0.3490 - accuracy: 0.8764 - val_loss: 0.3692 - val_accuracy: 0.8648\n",
            "Epoch 18/100\n",
            "788/788 [==============================] - 2s 2ms/step - loss: 0.3438 - accuracy: 0.8784 - val_loss: 0.3805 - val_accuracy: 0.8630\n",
            "Epoch 19/100\n",
            "788/788 [==============================] - 2s 3ms/step - loss: 0.3406 - accuracy: 0.8791 - val_loss: 0.3714 - val_accuracy: 0.8654\n",
            "Epoch 20/100\n",
            "788/788 [==============================] - 2s 3ms/step - loss: 0.3343 - accuracy: 0.8812 - val_loss: 0.3630 - val_accuracy: 0.8693\n",
            "Epoch 21/100\n",
            "788/788 [==============================] - 2s 3ms/step - loss: 0.3306 - accuracy: 0.8836 - val_loss: 0.3724 - val_accuracy: 0.8705\n",
            "Epoch 22/100\n",
            "788/788 [==============================] - 2s 3ms/step - loss: 0.3256 - accuracy: 0.8848 - val_loss: 0.3477 - val_accuracy: 0.8729\n",
            "Epoch 23/100\n",
            "788/788 [==============================] - 2s 3ms/step - loss: 0.3218 - accuracy: 0.8852 - val_loss: 0.3563 - val_accuracy: 0.8673\n",
            "Epoch 24/100\n",
            "788/788 [==============================] - 2s 2ms/step - loss: 0.3172 - accuracy: 0.8877 - val_loss: 0.3441 - val_accuracy: 0.8750\n",
            "Epoch 25/100\n",
            "788/788 [==============================] - 2s 3ms/step - loss: 0.3141 - accuracy: 0.8885 - val_loss: 0.3571 - val_accuracy: 0.8700\n",
            "Epoch 26/100\n",
            "788/788 [==============================] - 2s 3ms/step - loss: 0.3101 - accuracy: 0.8899 - val_loss: 0.3540 - val_accuracy: 0.8716\n",
            "Epoch 27/100\n",
            "788/788 [==============================] - 2s 3ms/step - loss: 0.3067 - accuracy: 0.8906 - val_loss: 0.4050 - val_accuracy: 0.8527\n",
            "Epoch 28/100\n",
            "788/788 [==============================] - 2s 2ms/step - loss: 0.3031 - accuracy: 0.8926 - val_loss: 0.3418 - val_accuracy: 0.8757\n",
            "Epoch 29/100\n",
            "788/788 [==============================] - 2s 2ms/step - loss: 0.2993 - accuracy: 0.8941 - val_loss: 0.3392 - val_accuracy: 0.8793\n",
            "Epoch 30/100\n",
            "788/788 [==============================] - 2s 3ms/step - loss: 0.2959 - accuracy: 0.8940 - val_loss: 0.3613 - val_accuracy: 0.8662\n",
            "Epoch 31/100\n",
            "788/788 [==============================] - 2s 2ms/step - loss: 0.2925 - accuracy: 0.8959 - val_loss: 0.3368 - val_accuracy: 0.8779\n",
            "Epoch 32/100\n",
            "788/788 [==============================] - 2s 3ms/step - loss: 0.2896 - accuracy: 0.8967 - val_loss: 0.3370 - val_accuracy: 0.8777\n",
            "Epoch 33/100\n",
            "788/788 [==============================] - 2s 3ms/step - loss: 0.2870 - accuracy: 0.8981 - val_loss: 0.3267 - val_accuracy: 0.8834\n",
            "Epoch 34/100\n",
            "788/788 [==============================] - 2s 3ms/step - loss: 0.2830 - accuracy: 0.8990 - val_loss: 0.3286 - val_accuracy: 0.8805\n",
            "Epoch 35/100\n",
            "788/788 [==============================] - 2s 3ms/step - loss: 0.2806 - accuracy: 0.9010 - val_loss: 0.3222 - val_accuracy: 0.8814\n",
            "Epoch 36/100\n",
            "788/788 [==============================] - 2s 3ms/step - loss: 0.2788 - accuracy: 0.9001 - val_loss: 0.3294 - val_accuracy: 0.8821\n",
            "Epoch 37/100\n",
            "788/788 [==============================] - 2s 2ms/step - loss: 0.2753 - accuracy: 0.9018 - val_loss: 0.3436 - val_accuracy: 0.8784\n",
            "Epoch 38/100\n",
            "788/788 [==============================] - 2s 3ms/step - loss: 0.2724 - accuracy: 0.9038 - val_loss: 0.3392 - val_accuracy: 0.8791\n",
            "Epoch 39/100\n",
            "788/788 [==============================] - 2s 3ms/step - loss: 0.2692 - accuracy: 0.9035 - val_loss: 0.3390 - val_accuracy: 0.8807\n",
            "Epoch 40/100\n",
            "788/788 [==============================] - 2s 3ms/step - loss: 0.2668 - accuracy: 0.9060 - val_loss: 0.3172 - val_accuracy: 0.8893\n",
            "Epoch 41/100\n",
            "788/788 [==============================] - 2s 3ms/step - loss: 0.2648 - accuracy: 0.9053 - val_loss: 0.3613 - val_accuracy: 0.8712\n",
            "Epoch 42/100\n",
            "788/788 [==============================] - 2s 2ms/step - loss: 0.2612 - accuracy: 0.9064 - val_loss: 0.3303 - val_accuracy: 0.8786\n",
            "Epoch 43/100\n",
            "788/788 [==============================] - 2s 2ms/step - loss: 0.2587 - accuracy: 0.9063 - val_loss: 0.3275 - val_accuracy: 0.8777\n",
            "Epoch 44/100\n",
            "788/788 [==============================] - 2s 3ms/step - loss: 0.2561 - accuracy: 0.9086 - val_loss: 0.3178 - val_accuracy: 0.8877\n",
            "Epoch 45/100\n",
            "788/788 [==============================] - 2s 3ms/step - loss: 0.2540 - accuracy: 0.9101 - val_loss: 0.3148 - val_accuracy: 0.8850\n",
            "Epoch 46/100\n",
            "788/788 [==============================] - 2s 3ms/step - loss: 0.2521 - accuracy: 0.9100 - val_loss: 0.3412 - val_accuracy: 0.8773\n",
            "Epoch 47/100\n",
            "788/788 [==============================] - 2s 3ms/step - loss: 0.2490 - accuracy: 0.9101 - val_loss: 0.3277 - val_accuracy: 0.8866\n",
            "Epoch 48/100\n",
            "788/788 [==============================] - 2s 3ms/step - loss: 0.2471 - accuracy: 0.9119 - val_loss: 0.3236 - val_accuracy: 0.8791\n",
            "Epoch 49/100\n",
            "788/788 [==============================] - 2s 3ms/step - loss: 0.2447 - accuracy: 0.9131 - val_loss: 0.3212 - val_accuracy: 0.8846\n",
            "Epoch 50/100\n",
            "788/788 [==============================] - 2s 2ms/step - loss: 0.2427 - accuracy: 0.9134 - val_loss: 0.3179 - val_accuracy: 0.8836\n",
            "Epoch 51/100\n",
            "788/788 [==============================] - 2s 3ms/step - loss: 0.2398 - accuracy: 0.9151 - val_loss: 0.3192 - val_accuracy: 0.8843\n",
            "Epoch 52/100\n",
            "788/788 [==============================] - 2s 3ms/step - loss: 0.2376 - accuracy: 0.9158 - val_loss: 0.3042 - val_accuracy: 0.8870\n",
            "Epoch 53/100\n",
            "788/788 [==============================] - 2s 2ms/step - loss: 0.2356 - accuracy: 0.9163 - val_loss: 0.3361 - val_accuracy: 0.8811\n",
            "Epoch 54/100\n",
            "788/788 [==============================] - 2s 2ms/step - loss: 0.2332 - accuracy: 0.9172 - val_loss: 0.3422 - val_accuracy: 0.8804\n",
            "Epoch 55/100\n",
            "788/788 [==============================] - 2s 2ms/step - loss: 0.2309 - accuracy: 0.9168 - val_loss: 0.3146 - val_accuracy: 0.8825\n",
            "Epoch 56/100\n",
            "788/788 [==============================] - 2s 2ms/step - loss: 0.2292 - accuracy: 0.9182 - val_loss: 0.3035 - val_accuracy: 0.8879\n",
            "Epoch 57/100\n",
            "788/788 [==============================] - 2s 3ms/step - loss: 0.2269 - accuracy: 0.9184 - val_loss: 0.3147 - val_accuracy: 0.8854\n",
            "Epoch 58/100\n",
            "788/788 [==============================] - 2s 2ms/step - loss: 0.2260 - accuracy: 0.9196 - val_loss: 0.3155 - val_accuracy: 0.8871\n",
            "Epoch 59/100\n",
            "788/788 [==============================] - 2s 2ms/step - loss: 0.2228 - accuracy: 0.9205 - val_loss: 0.3148 - val_accuracy: 0.8859\n",
            "Epoch 60/100\n",
            "788/788 [==============================] - 2s 2ms/step - loss: 0.2216 - accuracy: 0.9216 - val_loss: 0.3060 - val_accuracy: 0.8893\n",
            "Epoch 61/100\n",
            "788/788 [==============================] - 2s 3ms/step - loss: 0.2191 - accuracy: 0.9219 - val_loss: 0.3341 - val_accuracy: 0.8852\n",
            "Epoch 62/100\n",
            "788/788 [==============================] - 2s 3ms/step - loss: 0.2154 - accuracy: 0.9236 - val_loss: 0.3126 - val_accuracy: 0.8830\n",
            "Epoch 63/100\n",
            "788/788 [==============================] - 2s 3ms/step - loss: 0.2150 - accuracy: 0.9233 - val_loss: 0.3083 - val_accuracy: 0.8913\n",
            "Epoch 64/100\n",
            "788/788 [==============================] - 2s 3ms/step - loss: 0.2127 - accuracy: 0.9243 - val_loss: 0.3231 - val_accuracy: 0.8900\n",
            "Epoch 65/100\n",
            "788/788 [==============================] - 2s 3ms/step - loss: 0.2110 - accuracy: 0.9251 - val_loss: 0.3188 - val_accuracy: 0.8884\n",
            "Epoch 66/100\n",
            "788/788 [==============================] - 2s 3ms/step - loss: 0.2091 - accuracy: 0.9254 - val_loss: 0.3385 - val_accuracy: 0.8789\n",
            "Epoch 67/100\n",
            "788/788 [==============================] - 2s 3ms/step - loss: 0.2073 - accuracy: 0.9272 - val_loss: 0.3049 - val_accuracy: 0.8889\n",
            "Epoch 68/100\n",
            "788/788 [==============================] - 2s 2ms/step - loss: 0.2049 - accuracy: 0.9276 - val_loss: 0.3167 - val_accuracy: 0.8902\n",
            "Epoch 69/100\n",
            "788/788 [==============================] - 2s 2ms/step - loss: 0.2042 - accuracy: 0.9279 - val_loss: 0.3131 - val_accuracy: 0.8880\n",
            "Epoch 70/100\n",
            "788/788 [==============================] - 2s 2ms/step - loss: 0.2011 - accuracy: 0.9291 - val_loss: 0.3248 - val_accuracy: 0.8838\n",
            "Epoch 71/100\n",
            "788/788 [==============================] - 2s 2ms/step - loss: 0.1992 - accuracy: 0.9302 - val_loss: 0.3106 - val_accuracy: 0.8859\n",
            "Epoch 72/100\n",
            "788/788 [==============================] - 2s 2ms/step - loss: 0.1970 - accuracy: 0.9306 - val_loss: 0.2991 - val_accuracy: 0.8907\n",
            "Epoch 73/100\n",
            "788/788 [==============================] - 2s 3ms/step - loss: 0.1953 - accuracy: 0.9318 - val_loss: 0.3025 - val_accuracy: 0.8907\n",
            "Epoch 74/100\n",
            "788/788 [==============================] - 2s 3ms/step - loss: 0.1943 - accuracy: 0.9322 - val_loss: 0.2997 - val_accuracy: 0.8913\n",
            "Epoch 75/100\n",
            "788/788 [==============================] - 2s 3ms/step - loss: 0.1926 - accuracy: 0.9316 - val_loss: 0.3103 - val_accuracy: 0.8877\n",
            "Epoch 76/100\n",
            "788/788 [==============================] - 2s 3ms/step - loss: 0.1899 - accuracy: 0.9337 - val_loss: 0.3471 - val_accuracy: 0.8763\n",
            "Epoch 77/100\n",
            "788/788 [==============================] - 2s 2ms/step - loss: 0.1888 - accuracy: 0.9333 - val_loss: 0.3064 - val_accuracy: 0.8921\n",
            "Epoch 78/100\n",
            "788/788 [==============================] - 2s 2ms/step - loss: 0.1871 - accuracy: 0.9344 - val_loss: 0.2967 - val_accuracy: 0.8943\n",
            "Epoch 79/100\n",
            "788/788 [==============================] - 2s 3ms/step - loss: 0.1850 - accuracy: 0.9351 - val_loss: 0.3032 - val_accuracy: 0.8900\n",
            "Epoch 80/100\n",
            "788/788 [==============================] - 2s 3ms/step - loss: 0.1822 - accuracy: 0.9366 - val_loss: 0.3029 - val_accuracy: 0.8945\n",
            "Epoch 81/100\n",
            "788/788 [==============================] - 2s 3ms/step - loss: 0.1806 - accuracy: 0.9364 - val_loss: 0.2981 - val_accuracy: 0.8911\n",
            "Epoch 82/100\n",
            "788/788 [==============================] - 2s 3ms/step - loss: 0.1794 - accuracy: 0.9378 - val_loss: 0.3087 - val_accuracy: 0.8889\n",
            "Epoch 83/100\n",
            "788/788 [==============================] - 2s 3ms/step - loss: 0.1770 - accuracy: 0.9376 - val_loss: 0.3290 - val_accuracy: 0.8871\n",
            "Epoch 84/100\n",
            "788/788 [==============================] - 2s 3ms/step - loss: 0.1754 - accuracy: 0.9391 - val_loss: 0.3296 - val_accuracy: 0.8816\n",
            "Epoch 85/100\n",
            "788/788 [==============================] - 2s 2ms/step - loss: 0.1740 - accuracy: 0.9400 - val_loss: 0.3491 - val_accuracy: 0.8730\n",
            "Epoch 86/100\n",
            "788/788 [==============================] - 2s 2ms/step - loss: 0.1724 - accuracy: 0.9400 - val_loss: 0.3073 - val_accuracy: 0.8921\n",
            "Epoch 87/100\n",
            "788/788 [==============================] - 2s 3ms/step - loss: 0.1701 - accuracy: 0.9416 - val_loss: 0.3183 - val_accuracy: 0.8875\n",
            "Epoch 88/100\n",
            "788/788 [==============================] - 2s 3ms/step - loss: 0.1686 - accuracy: 0.9415 - val_loss: 0.3184 - val_accuracy: 0.8868\n",
            "Epoch 89/100\n",
            "788/788 [==============================] - 2s 2ms/step - loss: 0.1671 - accuracy: 0.9414 - val_loss: 0.3307 - val_accuracy: 0.8780\n",
            "Epoch 90/100\n",
            "788/788 [==============================] - 2s 3ms/step - loss: 0.1665 - accuracy: 0.9426 - val_loss: 0.3909 - val_accuracy: 0.8632\n",
            "Epoch 91/100\n",
            "788/788 [==============================] - 2s 3ms/step - loss: 0.1652 - accuracy: 0.9420 - val_loss: 0.3119 - val_accuracy: 0.8920\n",
            "Epoch 92/100\n",
            "788/788 [==============================] - 2s 3ms/step - loss: 0.1637 - accuracy: 0.9441 - val_loss: 0.3572 - val_accuracy: 0.8746\n",
            "Epoch 93/100\n",
            "788/788 [==============================] - 2s 3ms/step - loss: 0.1617 - accuracy: 0.9438 - val_loss: 0.3066 - val_accuracy: 0.8909\n",
            "Epoch 94/100\n",
            "788/788 [==============================] - 2s 2ms/step - loss: 0.1603 - accuracy: 0.9445 - val_loss: 0.3057 - val_accuracy: 0.8893\n",
            "Epoch 95/100\n",
            "788/788 [==============================] - 2s 3ms/step - loss: 0.1586 - accuracy: 0.9453 - val_loss: 0.3471 - val_accuracy: 0.8816\n",
            "Epoch 96/100\n",
            "788/788 [==============================] - 2s 3ms/step - loss: 0.1566 - accuracy: 0.9456 - val_loss: 0.3040 - val_accuracy: 0.8936\n",
            "Epoch 97/100\n",
            "788/788 [==============================] - 2s 2ms/step - loss: 0.1553 - accuracy: 0.9459 - val_loss: 0.3144 - val_accuracy: 0.8902\n",
            "Epoch 98/100\n",
            "788/788 [==============================] - 2s 2ms/step - loss: 0.1523 - accuracy: 0.9483 - val_loss: 0.3413 - val_accuracy: 0.8843\n",
            "Epoch 99/100\n",
            "788/788 [==============================] - 2s 2ms/step - loss: 0.1505 - accuracy: 0.9481 - val_loss: 0.3645 - val_accuracy: 0.8798\n",
            "Epoch 100/100\n",
            "788/788 [==============================] - 2s 3ms/step - loss: 0.1504 - accuracy: 0.9482 - val_loss: 0.3126 - val_accuracy: 0.8941\n"
          ],
          "name": "stdout"
        }
      ]
    },
    {
      "cell_type": "markdown",
      "metadata": {
        "id": "3oB7j61oyAML",
        "colab_type": "text"
      },
      "source": [
        "#### Plot training histroy: loss vs epoch and accuracy vs epoch"
      ]
    },
    {
      "cell_type": "code",
      "metadata": {
        "id": "rQ69qVoWjZvZ",
        "colab_type": "code",
        "outputId": "3df1e9c1-3447-4330-9d0f-5bb13fe0845a",
        "colab": {
          "base_uri": "https://localhost:8080/",
          "height": 33
        }
      },
      "source": [
        "history.history.keys()"
      ],
      "execution_count": 0,
      "outputs": [
        {
          "output_type": "execute_result",
          "data": {
            "text/plain": [
              "dict_keys(['loss', 'accuracy', 'val_loss', 'val_accuracy'])"
            ]
          },
          "metadata": {
            "tags": []
          },
          "execution_count": 34
        }
      ]
    },
    {
      "cell_type": "code",
      "metadata": {
        "id": "R2FmmwXcjcCu",
        "colab_type": "code",
        "outputId": "54aa756b-45b8-41da-e919-27ae112a82a0",
        "colab": {
          "base_uri": "https://localhost:8080/",
          "height": 403
        }
      },
      "source": [
        "fig, ax = plt.subplots(1,2, figsize=(10,6))\n",
        "ax[0].plot(history.history['accuracy'], '-b', label='train acc')\n",
        "ax[0].plot(history.history['val_accuracy'], '-r', label='val acc')\n",
        "ax[0].set_title('accuracy vs epoch')\n",
        "ax[0].set_xlabel('epoch')\n",
        "ax[0].set_ylabel('accuracy')\n",
        "ax[0].legend(fontsize=12)\n",
        "ax[0].grid(True)\n",
        "ax[1].plot(history.history['loss'], '-b', label='train loss')\n",
        "ax[1].plot(history.history['val_loss'], '-r', label='val loss')\n",
        "ax[1].set_title('loss vs epoch')\n",
        "ax[1].set_xlabel('epoch')\n",
        "ax[1].set_ylabel('loss')\n",
        "ax[1].legend(fontsize=12)\n",
        "ax[1].grid(True)\n",
        "# if loss keeps decreasing as the epoch increase, we keep training"
      ],
      "execution_count": 0,
      "outputs": [
        {
          "output_type": "display_data",
          "data": {
            "image/png": "[encoded data removed]",
            "text/plain": [
              "<Figure size 720x432 with 2 Axes>"
            ]
          },
          "metadata": {
            "tags": [],
            "needs_background": "light"
          }
        }
      ]
    },
    {
      "cell_type": "markdown",
      "metadata": {
        "id": "U8JcdAHuyTph",
        "colab_type": "text"
      },
      "source": [
        "#### Evaluate the model"
      ]
    },
    {
      "cell_type": "code",
      "metadata": {
        "id": "Y1gwli9YjeEW",
        "colab_type": "code",
        "outputId": "82d1e975-7421-4650-ce57-30c8f667bade",
        "colab": {
          "base_uri": "https://localhost:8080/",
          "height": 50
        }
      },
      "source": [
        "score = model.evaluate(x_test, y_test, batch_size=64, verbose=0)\n",
        "print('Test loss:', score[0])\n",
        "print('Test accuracy:', score[1])"
      ],
      "execution_count": 0,
      "outputs": [
        {
          "output_type": "stream",
          "text": [
            "Test loss: 0.31971198320388794\n",
            "Test accuracy: 0.894428551197052\n"
          ],
          "name": "stdout"
        }
      ]
    },
    {
      "cell_type": "markdown",
      "metadata": {
        "id": "Se9t5ZkGyY5W",
        "colab_type": "text"
      },
      "source": [
        "#### Make Prediction on the test set"
      ]
    },
    {
      "cell_type": "code",
      "metadata": {
        "id": "S1FCEzgkjgTY",
        "colab_type": "code",
        "colab": {}
      },
      "source": [
        "import numpy as np\n",
        "y_test_pred=model.predict(x_test, batch_size=64)"
      ],
      "execution_count": 0,
      "outputs": []
    },
    {
      "cell_type": "code",
      "metadata": {
        "id": "9JK7NuT-hK9J",
        "colab_type": "code",
        "colab": {}
      },
      "source": [
        "rounded_predictions = np.array(model.predict_classes(x_test))"
      ],
      "execution_count": 0,
      "outputs": []
    },
    {
      "cell_type": "code",
      "metadata": {
        "id": "cWibg6h0hMcz",
        "colab_type": "code",
        "outputId": "038c4ac4-e41d-40e7-d6f5-9f4a30a09362",
        "colab": {
          "base_uri": "https://localhost:8080/",
          "height": 33
        }
      },
      "source": [
        "print(rounded_predictions[0:10])"
      ],
      "execution_count": 0,
      "outputs": [
        {
          "output_type": "stream",
          "text": [
            "[9 5 6 6 2 2 4 7 6 6]\n"
          ],
          "name": "stdout"
        }
      ]
    },
    {
      "cell_type": "code",
      "metadata": {
        "id": "v0L0ECYch71v",
        "colab_type": "code",
        "outputId": "91c7f003-ff81-43d4-b7d9-3f74e181dda1",
        "colab": {
          "base_uri": "https://localhost:8080/",
          "height": 33
        }
      },
      "source": [
        "y_test[1]"
      ],
      "execution_count": 0,
      "outputs": [
        {
          "output_type": "execute_result",
          "data": {
            "text/plain": [
              "array([0., 0., 0., 0., 0., 1., 0., 0., 0., 0.], dtype=float32)"
            ]
          },
          "metadata": {
            "tags": []
          },
          "execution_count": 58
        }
      ]
    },
    {
      "cell_type": "code",
      "metadata": {
        "id": "RghGX9JbiGXz",
        "colab_type": "code",
        "outputId": "f509f032-2fb3-45ee-ee55-e3073811db8b",
        "colab": {
          "base_uri": "https://localhost:8080/",
          "height": 33
        }
      },
      "source": [
        "rounded_labels=np.argmax(y_test, axis=1)\n",
        "rounded_labels[1]"
      ],
      "execution_count": 0,
      "outputs": [
        {
          "output_type": "execute_result",
          "data": {
            "text/plain": [
              "5"
            ]
          },
          "metadata": {
            "tags": []
          },
          "execution_count": 59
        }
      ]
    },
    {
      "cell_type": "markdown",
      "metadata": {
        "id": "9RHn6w3gWy2m",
        "colab_type": "text"
      },
      "source": [
        "#### Create the confusion matrix"
      ]
    },
    {
      "cell_type": "code",
      "metadata": {
        "id": "0vfUCXR9eryH",
        "colab_type": "code",
        "outputId": "1d6cf3cf-de93-4b30-8bfd-64ace8f8c76f",
        "colab": {
          "base_uri": "https://localhost:8080/",
          "height": 180
        }
      },
      "source": [
        "from sklearn.metrics import confusion_matrix\n",
        "cm = confusion_matrix(rounded_labels, rounded_predictions)\n",
        "cm"
      ],
      "execution_count": 0,
      "outputs": [
        {
          "output_type": "execute_result",
          "data": {
            "text/plain": [
              "array([[1177,    1,   29,   43,    1,    1,  129,    0,   10,    0],\n",
              "       [   5, 1383,    4,   26,    3,    0,    1,    0,    2,    0],\n",
              "       [  15,    3, 1173,   15,  104,    0,   53,    0,    3,    0],\n",
              "       [  34,    7,   26, 1327,   34,    3,   20,    0,    4,    0],\n",
              "       [   0,    0,  119,   49, 1171,    0,   43,    0,    6,    0],\n",
              "       [   0,    0,    0,    1,    0, 1343,    0,   28,    3,   22],\n",
              "       [ 148,    2,  135,   37,  104,    2, 1035,    0,   10,    0],\n",
              "       [   0,    0,    0,    0,    0,   31,    0, 1268,    3,   52],\n",
              "       [   6,    0,    6,    3,    8,    7,   10,   13, 1285,    3],\n",
              "       [   0,    1,    0,    0,    0,   12,    1,   34,    3, 1360]])"
            ]
          },
          "metadata": {
            "tags": []
          },
          "execution_count": 60
        }
      ]
    },
    {
      "cell_type": "code",
      "metadata": {
        "id": "twL6tX6jeyV4",
        "colab_type": "code",
        "outputId": "24714137-9d2b-48c8-e32c-c191acf592a2",
        "colab": {
          "base_uri": "https://localhost:8080/",
          "height": 657
        }
      },
      "source": [
        "plt.figure(figsize=(9,9))\n",
        "plt.imshow(cm, interpolation='nearest', cmap='Pastel1')\n",
        "plt.title('Confusion matrix', size = 15)\n",
        "plt.colorbar()\n",
        "tick_marks = np.arange(10)\n",
        "plt.xticks(tick_marks, [\"0\", \"1\", \"2\", \"3\", \"4\", \"5\", \"6\", \"7\", \"8\", \"9\"], rotation=45, size = 10)\n",
        "plt.yticks(tick_marks, [\"0\", \"1\", \"2\", \"3\", \"4\", \"5\", \"6\", \"7\", \"8\", \"9\"], size = 10)\n",
        "plt.tight_layout()\n",
        "plt.ylabel('Actual label', size = 15)\n",
        "plt.xlabel('Predicted label', size = 15)\n",
        "width, height = cm.shape\n",
        "for x in range(width):    \n",
        "  for y in range(height):\n",
        "    plt.annotate(str(cm[x][y]), xy=(y, x), \n",
        "    horizontalalignment='center',\n",
        "    verticalalignment='center')"
      ],
      "execution_count": 0,
      "outputs": [
        {
          "output_type": "display_data",
          "data": {
            "image/png": "[encoded data removed]",
            "text/plain": [
              "<Figure size 648x648 with 2 Axes>"
            ]
          },
          "metadata": {
            "tags": [],
            "needs_background": "light"
          }
        }
      ]
    },
    {
      "cell_type": "code",
      "metadata": {
        "id": "jxBcO2qZjibl",
        "colab_type": "code",
        "outputId": "214cf277-fc67-4614-877a-f329d686c768",
        "colab": {
          "base_uri": "https://localhost:8080/",
          "height": 281
        }
      },
      "source": [
        "#the first image in the test set\n",
        "plt.imshow(x_test[0].reshape(28,28), cmap='gray')"
      ],
      "execution_count": 0,
      "outputs": [
        {
          "output_type": "execute_result",
          "data": {
            "text/plain": [
              "<matplotlib.image.AxesImage at 0x7f2335b126a0>"
            ]
          },
          "metadata": {
            "tags": []
          },
          "execution_count": 62
        },
        {
          "output_type": "display_data",
          "data": {
            "image/png": "[encoded data removed]",
            "text/plain": [
              "<Figure size 432x288 with 1 Axes>"
            ]
          },
          "metadata": {
            "tags": [],
            "needs_background": "light"
          }
        }
      ]
    },
    {
      "cell_type": "code",
      "metadata": {
        "id": "ysnp9G-RjkLY",
        "colab_type": "code",
        "outputId": "14744ec0-c759-43a2-f95d-f356e2a57614",
        "colab": {
          "base_uri": "https://localhost:8080/",
          "height": 66
        }
      },
      "source": [
        "y_test_pred[0] # has 10 element"
      ],
      "execution_count": 0,
      "outputs": [
        {
          "output_type": "execute_result",
          "data": {
            "text/plain": [
              "array([6.7188678e-11, 5.6676903e-12, 1.5325540e-12, 2.4012430e-12,\n",
              "       3.7705894e-11, 1.0684977e-09, 3.6946544e-12, 2.9654440e-05,\n",
              "       1.1590870e-09, 9.9997032e-01], dtype=float32)"
            ]
          },
          "metadata": {
            "tags": []
          },
          "execution_count": 63
        }
      ]
    },
    {
      "cell_type": "code",
      "metadata": {
        "id": "Dac3kgXhjl9W",
        "colab_type": "code",
        "outputId": "0e788542-8766-4811-a070-d064fe38d980",
        "colab": {
          "base_uri": "https://localhost:8080/",
          "height": 33
        }
      },
      "source": [
        "np.argmax(y_test_pred[0]) # take our maximize one"
      ],
      "execution_count": 0,
      "outputs": [
        {
          "output_type": "execute_result",
          "data": {
            "text/plain": [
              "9"
            ]
          },
          "metadata": {
            "tags": []
          },
          "execution_count": 64
        }
      ]
    },
    {
      "cell_type": "code",
      "metadata": {
        "id": "GqlgMmSIjnw0",
        "colab_type": "code",
        "outputId": "8f305344-c3d9-497f-b62f-49841b386da6",
        "colab": {
          "base_uri": "https://localhost:8080/",
          "height": 33
        }
      },
      "source": [
        "y_test[0]"
      ],
      "execution_count": 0,
      "outputs": [
        {
          "output_type": "execute_result",
          "data": {
            "text/plain": [
              "array([0., 0., 0., 0., 0., 0., 0., 0., 0., 1.], dtype=float32)"
            ]
          },
          "metadata": {
            "tags": []
          },
          "execution_count": 65
        }
      ]
    },
    {
      "cell_type": "code",
      "metadata": {
        "id": "pPtLCQBhjqDd",
        "colab_type": "code",
        "outputId": "9b4f65ef-ee5f-41ac-8282-6cd424e95798",
        "colab": {
          "base_uri": "https://localhost:8080/",
          "height": 33
        }
      },
      "source": [
        "np.argmax(y_test[0])"
      ],
      "execution_count": 0,
      "outputs": [
        {
          "output_type": "execute_result",
          "data": {
            "text/plain": [
              "9"
            ]
          },
          "metadata": {
            "tags": []
          },
          "execution_count": 66
        }
      ]
    },
    {
      "cell_type": "code",
      "metadata": {
        "id": "zzBCYD9Wjrcx",
        "colab_type": "code",
        "colab": {}
      },
      "source": [
        ""
      ],
      "execution_count": 0,
      "outputs": []
    }
  ]
}