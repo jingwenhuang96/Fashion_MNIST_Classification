{
  "nbformat": 4,
  "nbformat_minor": 0,
  "metadata": {
    "colab": {
      "name": "Fashion_MNIST_RF",
      "provenance": [],
      "collapsed_sections": []
    },
    "kernelspec": {
      "name": "python3",
      "display_name": "Python 3"
    },
    "accelerator": "GPU"
  },
  "cells": [
    {
      "cell_type": "markdown",
      "metadata": {
        "id": "fuDOunxkdGeX",
        "colab_type": "text"
      },
      "source": [
        "# Fashion MINST Classification with Fandom Forest Classifier\n",
        "The notebook build Fandom Forest Classifier to classify the images of Fashion MNIST into 10 classes\n",
        "\n",
        "## *Question: How does the Fandom Forest Classifier perform on classifying the images of fashion ? Which category does this model make more mistakes?*\n",
        "\n",
        "\n",
        "### **Result:**\n",
        "\n",
        "classification accuracy on test set is: 0.8717857142857143\n",
        "\n",
        "label 6 — Shirt is easier to be classified as label 0 — T-shirt/top and label 2 — Pullover\n",
        "\n",
        "Random Forest model performs relatively not well on classifying shirt.\n",
        "\n"
      ]
    },
    {
      "cell_type": "markdown",
      "metadata": {
        "id": "P8Ct30ypfQ89",
        "colab_type": "text"
      },
      "source": [
        "### load data and reshape the data"
      ]
    },
    {
      "cell_type": "code",
      "metadata": {
        "id": "mN3ckYfec6EJ",
        "colab_type": "code",
        "colab": {}
      },
      "source": [
        "# import library\n",
        "import tensorflow.keras as keras\n",
        "import sys\n",
        "sys.modules['keras'] = keras\n",
        "from keras.models import Sequential\n",
        "from keras.layers import Dense # define a layer\n",
        "from keras.optimizers import SGD # this is a mini batch method\n",
        "from keras.datasets import mnist\n",
        "import matplotlib.pyplot as plt\n",
        "from IPython import display\n",
        "import numpy as np\n",
        "from sklearn.datasets import fetch_openml"
      ],
      "execution_count": 0,
      "outputs": []
    },
    {
      "cell_type": "code",
      "metadata": {
        "id": "7XFfvnZLdF9U",
        "colab_type": "code",
        "colab": {}
      },
      "source": [
        "# load the data\n",
        "fasion_mnist=fetch_openml(name=\"Fashion-MNIST\")"
      ],
      "execution_count": 0,
      "outputs": []
    },
    {
      "cell_type": "code",
      "metadata": {
        "id": "iJmNipYbddA1",
        "colab_type": "code",
        "colab": {}
      },
      "source": [
        "data=fasion_mnist.data\n",
        "images=data.reshape(-1,28,28)\n",
        "target=fasion_mnist.target.astype('int64')"
      ],
      "execution_count": 0,
      "outputs": []
    },
    {
      "cell_type": "code",
      "metadata": {
        "id": "I6gG5fdId-fo",
        "colab_type": "code",
        "outputId": "d2f53fbd-3bfd-4094-a321-ba0fa4882bba",
        "colab": {
          "base_uri": "https://localhost:8080/",
          "height": 33
        }
      },
      "source": [
        "#a row in data is an image (28x28 reshaped into a vector of 784 elements)\n",
        "data.shape"
      ],
      "execution_count": 0,
      "outputs": [
        {
          "output_type": "execute_result",
          "data": {
            "text/plain": [
              "(70000, 784)"
            ]
          },
          "metadata": {
            "tags": []
          },
          "execution_count": 16
        }
      ]
    },
    {
      "cell_type": "code",
      "metadata": {
        "id": "3rhx7yoQeaJC",
        "colab_type": "code",
        "outputId": "76680ea0-d447-4ec0-f24b-7592edf179a1",
        "colab": {
          "base_uri": "https://localhost:8080/",
          "height": 33
        }
      },
      "source": [
        "# images[0] is the first image (28x28)\n",
        "images.shape"
      ],
      "execution_count": 0,
      "outputs": [
        {
          "output_type": "execute_result",
          "data": {
            "text/plain": [
              "(70000, 28, 28)"
            ]
          },
          "metadata": {
            "tags": []
          },
          "execution_count": 17
        }
      ]
    },
    {
      "cell_type": "code",
      "metadata": {
        "id": "Rxa_pKpHf44l",
        "colab_type": "code",
        "outputId": "e56ffee1-857c-45f7-ee59-b540a0e991f6",
        "colab": {
          "base_uri": "https://localhost:8080/",
          "height": 33
        }
      },
      "source": [
        "images[0].shape"
      ],
      "execution_count": 0,
      "outputs": [
        {
          "output_type": "execute_result",
          "data": {
            "text/plain": [
              "(28, 28)"
            ]
          },
          "metadata": {
            "tags": []
          },
          "execution_count": 18
        }
      ]
    },
    {
      "cell_type": "code",
      "metadata": {
        "id": "JLpI-um4gABM",
        "colab_type": "code",
        "outputId": "43c710a2-0cf4-415c-e2e7-3a3e4de707a7",
        "colab": {
          "base_uri": "https://localhost:8080/",
          "height": 33
        }
      },
      "source": [
        "images[0].max()"
      ],
      "execution_count": 0,
      "outputs": [
        {
          "output_type": "execute_result",
          "data": {
            "text/plain": [
              "255.0"
            ]
          },
          "metadata": {
            "tags": []
          },
          "execution_count": 19
        }
      ]
    },
    {
      "cell_type": "markdown",
      "metadata": {
        "id": "5D_aL_kAXX3v",
        "colab_type": "text"
      },
      "source": [
        "### normalize the data"
      ]
    },
    {
      "cell_type": "code",
      "metadata": {
        "id": "Oq4am_KYiXIJ",
        "colab_type": "code",
        "colab": {}
      },
      "source": [
        "#normalize the value of every pixel into the range of 0 to 1\n",
        "data = data.astype('float32')\n",
        "data /= 255"
      ],
      "execution_count": 0,
      "outputs": []
    },
    {
      "cell_type": "code",
      "metadata": {
        "id": "BubCuE3KecJT",
        "colab_type": "code",
        "outputId": "425a2390-d9b9-4a44-b711-948054e188ef",
        "colab": {
          "base_uri": "https://localhost:8080/",
          "height": 33
        }
      },
      "source": [
        "#an element in target is the class label of the corresponding image in data\n",
        "target.shape"
      ],
      "execution_count": 0,
      "outputs": [
        {
          "output_type": "execute_result",
          "data": {
            "text/plain": [
              "(70000,)"
            ]
          },
          "metadata": {
            "tags": []
          },
          "execution_count": 21
        }
      ]
    },
    {
      "cell_type": "code",
      "metadata": {
        "id": "s4GECFGlee4r",
        "colab_type": "code",
        "outputId": "9abd98cb-5552-4c0e-f378-551bb36216e5",
        "colab": {
          "base_uri": "https://localhost:8080/",
          "height": 33
        }
      },
      "source": [
        "[target.min(), target.max()]"
      ],
      "execution_count": 0,
      "outputs": [
        {
          "output_type": "execute_result",
          "data": {
            "text/plain": [
              "[0, 9]"
            ]
          },
          "metadata": {
            "tags": []
          },
          "execution_count": 22
        }
      ]
    },
    {
      "cell_type": "markdown",
      "metadata": {
        "id": "vzI01wDmXaYX",
        "colab_type": "text"
      },
      "source": [
        "### show images of data"
      ]
    },
    {
      "cell_type": "code",
      "metadata": {
        "id": "eB3Y-BqTehls",
        "colab_type": "code",
        "outputId": "217f99db-7057-4e01-c739-4936a47cf198",
        "colab": {
          "base_uri": "https://localhost:8080/",
          "height": 228
        }
      },
      "source": [
        "# show some of the images\n",
        "%matplotlib inline\n",
        "import matplotlib.pyplot as plt\n",
        "from IPython import display\n",
        "fig, ax = plt.subplots(figsize=(3, 3))\n",
        "for n in range(0, target.shape[0], 1000):\n",
        "    x=data[n,:]\n",
        "    x=x.reshape(28,28) # reshape a vector to an image\n",
        "    ax.imshow(x, cmap='gray')    \n",
        "    ax.axis('off')\n",
        "    ax.set_title('label: ' + str(int(target[n])), fontsize=16)\n",
        "    plt.draw()\n",
        "    display.clear_output(wait=True)\n",
        "    display.display(fig)\n",
        "    plt.pause(0.1)  "
      ],
      "execution_count": 0,
      "outputs": [
        {
          "output_type": "display_data",
          "data": {
            "image/png": "[encoded data removed]",
            "text/plain": [
              "<Figure size 216x216 with 1 Axes>"
            ]
          },
          "metadata": {
            "tags": []
          }
        },
        {
          "output_type": "display_data",
          "data": {
            "text/plain": [
              "<Figure size 432x288 with 0 Axes>"
            ]
          },
          "metadata": {
            "tags": []
          }
        }
      ]
    },
    {
      "cell_type": "markdown",
      "metadata": {
        "id": "Qxnk4GTlJNmE",
        "colab_type": "text"
      },
      "source": [
        "### Split data and Train Random Forest Model\n"
      ]
    },
    {
      "cell_type": "code",
      "metadata": {
        "id": "6tzQ74mH-k38",
        "colab_type": "code",
        "colab": {}
      },
      "source": [
        "from sklearn.model_selection import train_test_split\n",
        "from sklearn.ensemble import RandomForestClassifier\n",
        "from sklearn.metrics import confusion_matrix\n",
        "X_train, X_test, Y_train, Y_test = train_test_split(data, target, test_size=0.2, random_state=0)\n",
        "X_train, X_val, Y_train, Y_val = train_test_split(X_train, Y_train, test_size=0.1, random_state=0)"
      ],
      "execution_count": 0,
      "outputs": []
    },
    {
      "cell_type": "markdown",
      "metadata": {
        "id": "HyB8dmt7Xis8",
        "colab_type": "text"
      },
      "source": [
        "### define the random forest classifier"
      ]
    },
    {
      "cell_type": "code",
      "metadata": {
        "id": "kbn8K0a8XgcI",
        "colab_type": "code",
        "colab": {}
      },
      "source": [
        "#set class_weight='balanced'\n",
        "RF=RandomForestClassifier(n_estimators=20, class_weight='balanced', max_depth=20, random_state=0)\n",
        "RF.fit(X_train, Y_train)\n",
        "Y_val_pred=RF.predict(X_val)\n",
        "confusion_val=confusion_matrix(Y_val, Y_val_pred)\n",
        "Y_test_pred=RF.predict(X_test)\n",
        "confusion_test=confusion_matrix(Y_test, Y_test_pred)"
      ],
      "execution_count": 0,
      "outputs": []
    },
    {
      "cell_type": "markdown",
      "metadata": {
        "id": "l5TG_wh2JS2Z",
        "colab_type": "text"
      },
      "source": [
        "### Hyper-parameter tuning: Find the best depth of random forest"
      ]
    },
    {
      "cell_type": "code",
      "metadata": {
        "id": "DzQYjRzk-k2c",
        "colab_type": "code",
        "colab": {}
      },
      "source": [
        "max_depth_list = np.arange(18,40)"
      ],
      "execution_count": 0,
      "outputs": []
    },
    {
      "cell_type": "code",
      "metadata": {
        "id": "9WgEkj5p-kzh",
        "colab_type": "code",
        "outputId": "2ed485a9-7f30-4e93-8e6e-6773599492b8",
        "colab": {
          "base_uri": "https://localhost:8080/",
          "height": 70
        }
      },
      "source": [
        "acc_train_list=[]\n",
        "acc_val_list=[]\n",
        "for i in max_depth_list:\n",
        "    RF=RandomForestClassifier(n_estimators=20, class_weight='balanced', max_depth=i, random_state=0)\n",
        "    RF.fit(X_train, Y_train)\n",
        "    Y_val_pred=RF.predict(X_val)\n",
        "    confusion_val=confusion_matrix(Y_val, Y_val_pred)\n",
        "    Y_train_pred=RF.predict(X_train)\n",
        "    confusion_train=confusion_matrix(Y_train, Y_train_pred)\n",
        "    acc_train_list.append(RF.score(X_train, Y_train))\n",
        "    acc_val_list.append(RF.score(X_test, Y_test))\n",
        "\n",
        "print(acc_train_list)\n",
        "print(acc_val_list)"
      ],
      "execution_count": 0,
      "outputs": [
        {
          "output_type": "stream",
          "text": [
            "[0.9857936507936508, 0.988531746031746, 0.9909126984126985, 0.9933134920634921, 0.9941071428571429, 0.9960515873015873, 0.9966865079365079, 0.9974603174603175, 0.9982738095238095, 0.9982936507936508, 0.9986309523809523, 0.9985714285714286, 0.9987301587301587, 0.9988888888888889, 0.998968253968254, 0.998968253968254, 0.9990674603174603, 0.9991071428571429, 0.9990476190476191, 0.9990476190476191, 0.9990476190476191, 0.9990873015873016]\n",
            "[0.865, 0.8682142857142857, 0.8655714285714285, 0.8660714285714286, 0.8673571428571428, 0.8670714285714286, 0.8667857142857143, 0.8663571428571428, 0.8666428571428572, 0.8666428571428572, 0.8677857142857143, 0.8717857142857143, 0.8687142857142857, 0.8672142857142857, 0.8668571428571429, 0.8660714285714286, 0.8672857142857143, 0.8674285714285714, 0.87, 0.8672142857142857, 0.8689285714285714, 0.8697142857142857]\n"
          ],
          "name": "stdout"
        }
      ]
    },
    {
      "cell_type": "code",
      "metadata": {
        "id": "ShY8D2gl-kvW",
        "colab_type": "code",
        "outputId": "da903e2a-0e2a-4571-d100-faa82393ee9c",
        "colab": {
          "base_uri": "https://localhost:8080/",
          "height": 405
        }
      },
      "source": [
        "fig, ax = plt.subplots(1,2, figsize=(10,6))\n",
        "ax[0].plot(max_depth_list, acc_train_list, 'b')\n",
        "ax[0].set_xlabel('max_depth')\n",
        "ax[0].set_ylabel('training accuracy')\n",
        "ax[0].set_title('max_depth v.s. training accuracy')\n",
        "ax[0].grid(True)\n",
        "ax[1].plot(max_depth_list, acc_val_list, 'r')\n",
        "ax[1].set_xlabel('max_depth')\n",
        "ax[1].set_ylabel('validation accuracy')\n",
        "ax[1].set_title('max_depth v.s. validation accuracy')\n",
        "ax[1].grid(True)"
      ],
      "execution_count": 0,
      "outputs": [
        {
          "output_type": "display_data",
          "data": {
            "image/png": "[encoded data removed]",
            "text/plain": [
              "<Figure size 720x432 with 2 Axes>"
            ]
          },
          "metadata": {
            "tags": [],
            "needs_background": "light"
          }
        }
      ]
    },
    {
      "cell_type": "code",
      "metadata": {
        "id": "L57dnZVt-ktY",
        "colab_type": "code",
        "colab": {}
      },
      "source": [
        "max_depth_best=29"
      ],
      "execution_count": 0,
      "outputs": []
    },
    {
      "cell_type": "markdown",
      "metadata": {
        "id": "aisA147YKfT_",
        "colab_type": "text"
      },
      "source": [
        "### train model with best maximum depth of random forest"
      ]
    },
    {
      "cell_type": "code",
      "metadata": {
        "id": "2VzEmO-U-ksj",
        "colab_type": "code",
        "colab": {}
      },
      "source": [
        "RF=RandomForestClassifier(n_estimators=20, class_weight='balanced', max_depth= max_depth_best, random_state=0)\n",
        "RF.fit(X_train, Y_train)\n",
        "Y_train_pred=RF.predict(X_train)\n",
        "confusion_train=confusion_matrix(Y_train, Y_train_pred)\n",
        "Y_test_pred=RF.predict(X_test)\n",
        "confusion_test=confusion_matrix(Y_test, Y_test_pred)"
      ],
      "execution_count": 0,
      "outputs": []
    },
    {
      "cell_type": "markdown",
      "metadata": {
        "id": "mz62Ns59XwaW",
        "colab_type": "text"
      },
      "source": [
        "### Create confusion matrix"
      ]
    },
    {
      "cell_type": "code",
      "metadata": {
        "id": "aQyQ7xjDb8Xb",
        "colab_type": "code",
        "outputId": "6a1d9e48-e1d5-49a8-e75a-e1b2a06b8026",
        "colab": {
          "base_uri": "https://localhost:8080/",
          "height": 180
        }
      },
      "source": [
        "from sklearn import metrics\n",
        "cm = metrics.confusion_matrix(Y_test, Y_test_pred)\n",
        "print(cm)"
      ],
      "execution_count": 0,
      "outputs": [
        {
          "output_type": "stream",
          "text": [
            "[[1184    0   20   54    3    1  123    0    6    0]\n",
            " [   4 1364    3   43    3    0    5    0    2    0]\n",
            " [   9    0 1121   13  150    1   69    0    3    0]\n",
            " [  34    9   15 1307   49    0   38    0    3    0]\n",
            " [   2    3  132   52 1121    0   74    0    3    1]\n",
            " [   0    0    0    0    0 1344    0   36    3   14]\n",
            " [ 253    3  178   27  120    2  875    0   15    0]\n",
            " [   0    0    0    0    0   39    0 1250    1   64]\n",
            " [   5    0    4    2    6    4   16    4 1298    2]\n",
            " [   0    0    0    1    0   12    0   53    4 1341]]\n"
          ],
          "name": "stdout"
        }
      ]
    },
    {
      "cell_type": "code",
      "metadata": {
        "id": "wTTDc0INcBk6",
        "colab_type": "code",
        "outputId": "f8e304eb-a0b5-45ff-df56-c977dd5e1620",
        "colab": {
          "base_uri": "https://localhost:8080/",
          "height": 657
        }
      },
      "source": [
        "plt.figure(figsize=(9,9))\n",
        "plt.imshow(cm, interpolation='nearest', cmap='Pastel1')\n",
        "plt.title('Confusion matrix', size = 15)\n",
        "plt.colorbar()\n",
        "tick_marks = np.arange(10)\n",
        "plt.xticks(tick_marks, [\"0\", \"1\", \"2\", \"3\", \"4\", \"5\", \"6\", \"7\", \"8\", \"9\"], rotation=45, size = 10)\n",
        "plt.yticks(tick_marks, [\"0\", \"1\", \"2\", \"3\", \"4\", \"5\", \"6\", \"7\", \"8\", \"9\"], size = 10)\n",
        "plt.tight_layout()\n",
        "plt.ylabel('Actual label', size = 15)\n",
        "plt.xlabel('Predicted label', size = 15)\n",
        "width, height = cm.shape\n",
        "for x in range(width):    \n",
        "  for y in range(height):\n",
        "    plt.annotate(str(cm[x][y]), xy=(y, x), \n",
        "    horizontalalignment='center',\n",
        "    verticalalignment='center')"
      ],
      "execution_count": 0,
      "outputs": [
        {
          "output_type": "display_data",
          "data": {
            "image/png": "[encoded data removed]",
            "text/plain": [
              "<Figure size 648x648 with 2 Axes>"
            ]
          },
          "metadata": {
            "tags": [],
            "needs_background": "light"
          }
        }
      ]
    },
    {
      "cell_type": "code",
      "metadata": {
        "id": "ocjNEtH3-kkX",
        "colab_type": "code",
        "colab": {}
      },
      "source": [
        "confusion_train"
      ],
      "execution_count": 0,
      "outputs": []
    },
    {
      "cell_type": "code",
      "metadata": {
        "id": "FxahQWhv-kjC",
        "colab_type": "code",
        "outputId": "2294dd9b-c127-4e42-da71-2726c1e52c05",
        "colab": {
          "base_uri": "https://localhost:8080/",
          "height": 33
        }
      },
      "source": [
        "RF.score(X_train, Y_train)"
      ],
      "execution_count": 0,
      "outputs": [
        {
          "output_type": "execute_result",
          "data": {
            "text/plain": [
              "0.9985714285714286"
            ]
          },
          "metadata": {
            "tags": []
          },
          "execution_count": 35
        }
      ]
    },
    {
      "cell_type": "code",
      "metadata": {
        "id": "nXv00OXY-kfW",
        "colab_type": "code",
        "outputId": "b21efa66-80d4-4022-c815-b91c875523a5",
        "colab": {
          "base_uri": "https://localhost:8080/",
          "height": 33
        }
      },
      "source": [
        "RF.score(X_test, Y_test)"
      ],
      "execution_count": 0,
      "outputs": [
        {
          "output_type": "execute_result",
          "data": {
            "text/plain": [
              "0.8717857142857143"
            ]
          },
          "metadata": {
            "tags": []
          },
          "execution_count": 36
        }
      ]
    },
    {
      "cell_type": "markdown",
      "metadata": {
        "id": "txWgmk7JKc0r",
        "colab_type": "text"
      },
      "source": [
        "### Look at part of the predicted label"
      ]
    },
    {
      "cell_type": "code",
      "metadata": {
        "id": "_QDq0BAF-kbf",
        "colab_type": "code",
        "colab": {}
      },
      "source": [
        "RF.predict(X_test[0:10])"
      ],
      "execution_count": 0,
      "outputs": []
    },
    {
      "cell_type": "code",
      "metadata": {
        "id": "th9-P-uI-kPv",
        "colab_type": "code",
        "colab": {}
      },
      "source": [
        "Y_test[0:10]"
      ],
      "execution_count": 0,
      "outputs": []
    },
    {
      "cell_type": "code",
      "metadata": {
        "id": "A5gKRGVGKZPi",
        "colab_type": "code",
        "colab": {}
      },
      "source": [
        ""
      ],
      "execution_count": 0,
      "outputs": []
    }
  ]
}